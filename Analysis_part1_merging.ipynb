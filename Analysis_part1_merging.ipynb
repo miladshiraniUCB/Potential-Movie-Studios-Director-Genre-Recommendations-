{
 "cells": [
  {
   "cell_type": "code",
   "execution_count": 36,
   "metadata": {},
   "outputs": [],
   "source": [
    "import os\n",
    "import numpy as np\n",
    "from glob import glob\n",
    "import pandas as pd\n",
    "import seaborn as sns\n",
    "from matplotlib import pyplot as plt\n",
    "\n",
    "\n",
    "%matplotlib inline"
   ]
  },
  {
   "cell_type": "markdown",
   "metadata": {},
   "source": [
    "The data we will work with is saved in the folder `zippedData` and we will import them into a dictionary which we call `df`. Each key represents a name of a dataframe and each value of this dictionary is the dataframe. "
   ]
  },
  {
   "cell_type": "code",
   "execution_count": 38,
   "metadata": {},
   "outputs": [
    {
     "name": "stdout",
     "output_type": "stream",
     "text": [
      "title_genres_year\n",
      "imdb_title_crew_gz\n",
      "alive_people\n",
      "Genre-budget-d_gross-w_gross-year\n",
      "title_genres_year_budgets_studio_rating\n",
      "imdb_name_basics_gz\n",
      "imdb_title_akas_gz\n",
      "imdb_title_ratings_gz\n",
      "movie_popularity_vote\n",
      "title_genres_year_budgets\n",
      "tn_movie_budgets_gz\n",
      "bom_movie_gross_gz\n",
      "imdb_title_principals_gz\n",
      "tmdb_movies_gz\n",
      "imdb_title_basics_gz\n",
      "title_genres_year_budgets_studio\n"
     ]
    }
   ],
   "source": [
    "csv_files = glob(\"./cleaned_data/*.csv\")\n",
    "csv_files\n",
    "\n",
    "cleaned_dict = {}\n",
    "for filename in csv_files:\n",
    "    filename_cleaned = (os.path.basename(filename)\n",
    "                          .replace(\".csv\", \"\"))  #cleaning the filenames\n",
    "    filename_df = pd.read_csv(filename, index_col=0)\n",
    "    cleaned_dict[filename_cleaned] = filename_df\n",
    "    cleaned_dict[filename_cleaned].reset_index(inplace=True)"
   ]
  },
  {
   "cell_type": "code",
   "execution_count": 21,
   "metadata": {},
   "outputs": [
    {
     "data": {
      "text/html": [
       "<div>\n",
       "<style scoped>\n",
       "    .dataframe tbody tr th:only-of-type {\n",
       "        vertical-align: middle;\n",
       "    }\n",
       "\n",
       "    .dataframe tbody tr th {\n",
       "        vertical-align: top;\n",
       "    }\n",
       "\n",
       "    .dataframe thead th {\n",
       "        text-align: right;\n",
       "    }\n",
       "</style>\n",
       "<table border=\"1\" class=\"dataframe\">\n",
       "  <thead>\n",
       "    <tr style=\"text-align: right;\">\n",
       "      <th></th>\n",
       "      <th>movie</th>\n",
       "      <th>return_ratio</th>\n",
       "      <th>year</th>\n",
       "      <th>tconst</th>\n",
       "      <th>genres</th>\n",
       "      <th>studio</th>\n",
       "    </tr>\n",
       "  </thead>\n",
       "  <tbody>\n",
       "    <tr>\n",
       "      <th>0</th>\n",
       "      <td>Pirates of the Caribbean: On Stranger Tides</td>\n",
       "      <td>2.133774</td>\n",
       "      <td>2011</td>\n",
       "      <td>tt1298650</td>\n",
       "      <td>Action,Adventure,Fantasy</td>\n",
       "      <td>BV</td>\n",
       "    </tr>\n",
       "    <tr>\n",
       "      <th>1</th>\n",
       "      <td>Avengers: Age of Ultron</td>\n",
       "      <td>4.632244</td>\n",
       "      <td>2015</td>\n",
       "      <td>tt2395427</td>\n",
       "      <td>Action,Adventure,Sci-Fi</td>\n",
       "      <td>BV</td>\n",
       "    </tr>\n",
       "  </tbody>\n",
       "</table>\n",
       "</div>"
      ],
      "text/plain": [
       "                                         movie  return_ratio  year     tconst  \\\n",
       "0  Pirates of the Caribbean: On Stranger Tides      2.133774  2011  tt1298650   \n",
       "1                      Avengers: Age of Ultron      4.632244  2015  tt2395427   \n",
       "\n",
       "                     genres studio  \n",
       "0  Action,Adventure,Fantasy     BV  \n",
       "1   Action,Adventure,Sci-Fi     BV  "
      ]
     },
     "execution_count": 21,
     "metadata": {},
     "output_type": "execute_result"
    }
   ],
   "source": [
    "cleaned_dict['title_genres_year_budgets_studio_cleaned'].head(2)"
   ]
  },
  {
   "cell_type": "markdown",
   "metadata": {},
   "source": [
    "# **Merging `DataFrames` and Data Analyzing**"
   ]
  },
  {
   "cell_type": "markdown",
   "metadata": {},
   "source": [
    "In this section, we will merge some of the previous `DataFrames` to create new ones so that we could perform analysis on them. In the following we will create the following `DataFrames`\n",
    "\n",
    "\\begin{itemize}\n",
    "\\item `title_genres_year`. We make this dataframe by merging `imdb_title_basics_gz` and `imdb_title_akas_gz`.\n",
    "\n",
    "\\item `title_genres_year_budgets`. We make this dataframe by merging `tn_movie_budgets_gz` and `title_genres_year`.\n",
    "\n",
    "\\item `title_genres_year_budgets_studio`. We make this dataframe by merging `title_genres_year_budgets` and `bom_movie_gorss`.\n",
    "\n",
    "\\end{itemize}"
   ]
  },
  {
   "cell_type": "markdown",
   "metadata": {},
   "source": [
    "After making the above mentioned `DataFrames`, we work on these `DataFrames` and by using aggregating methods and merging approach we create new `DataFrames` and then we analyze them. This part is called \\underline{All Directors} which is divided into two parts as bellow:\n",
    "\n",
    "\\begin{itemize}\n",
    "\\item All Directors\n",
    "\\begin{itemize}\n",
    "\\item `all_director_movie_id`. We make this dataframe by merging `imdb_name_basics_gz` and `imdb_title_crew_gz`. \n",
    "\n",
    "\\item `all_director_budget_genres`. We make this dataframe by merging `title_genres_year_budgets_studio` and `all_director_movie_id`.\n",
    "\n",
    "\\item \n",
    "\n",
    "\n",
    "\n",
    "\\end{itemize}\n",
    "\n",
    "\\end{itemize}\n"
   ]
  },
  {
   "cell_type": "markdown",
   "metadata": {},
   "source": [
    "## Creating a `DataFrame` called \\underline{`title_genres_year`} by Merging \\underline{`imdb_title_basics_gz`} and \\underline{`imdb_title_akas_gz`} "
   ]
  },
  {
   "cell_type": "markdown",
   "metadata": {},
   "source": [
    "We realized that in some of the dataframes e.g. `imdb_title_basics_gz` we have two different columns in which a name of a movie is listed. However, there are rows in these two columns that have different names for a same movie. Some of the names are not accurate and have to be changed. In the dataframe `imdb_title_akas_gz` there is a column called \"`is_original_title`\" with the values `0.0` and `1.0`. This column can be used to check  the name of movie with the id starting with `tt`. Therefore, we are going to merge the dataframes `imdb_title_basics_gz` and `imdb_title_akas_gz` to find the real name of the movies as well as their genres, title, start_year etc. "
   ]
  },
  {
   "cell_type": "code",
   "execution_count": 22,
   "metadata": {},
   "outputs": [
    {
     "data": {
      "text/html": [
       "<div>\n",
       "<style scoped>\n",
       "    .dataframe tbody tr th:only-of-type {\n",
       "        vertical-align: middle;\n",
       "    }\n",
       "\n",
       "    .dataframe tbody tr th {\n",
       "        vertical-align: top;\n",
       "    }\n",
       "\n",
       "    .dataframe thead th {\n",
       "        text-align: right;\n",
       "    }\n",
       "</style>\n",
       "<table border=\"1\" class=\"dataframe\">\n",
       "  <thead>\n",
       "    <tr style=\"text-align: right;\">\n",
       "      <th></th>\n",
       "      <th>tconst</th>\n",
       "      <th>start_year</th>\n",
       "      <th>genres</th>\n",
       "      <th>title</th>\n",
       "    </tr>\n",
       "  </thead>\n",
       "  <tbody>\n",
       "    <tr>\n",
       "      <th>0</th>\n",
       "      <td>tt0063540</td>\n",
       "      <td>2013</td>\n",
       "      <td>Action,Crime,Drama</td>\n",
       "      <td>Sunghursh</td>\n",
       "    </tr>\n",
       "    <tr>\n",
       "      <th>1</th>\n",
       "      <td>tt0066787</td>\n",
       "      <td>2019</td>\n",
       "      <td>Biography,Drama</td>\n",
       "      <td>Ashad Ka Ek Din</td>\n",
       "    </tr>\n",
       "    <tr>\n",
       "      <th>2</th>\n",
       "      <td>tt0069049</td>\n",
       "      <td>2018</td>\n",
       "      <td>Drama</td>\n",
       "      <td>The Other Side of the Wind</td>\n",
       "    </tr>\n",
       "    <tr>\n",
       "      <th>3</th>\n",
       "      <td>tt0069204</td>\n",
       "      <td>2018</td>\n",
       "      <td>Comedy,Drama</td>\n",
       "      <td>Sabse Bada Sukh</td>\n",
       "    </tr>\n",
       "    <tr>\n",
       "      <th>4</th>\n",
       "      <td>tt0100275</td>\n",
       "      <td>2017</td>\n",
       "      <td>Comedy,Drama,Fantasy</td>\n",
       "      <td>La Telenovela Errante</td>\n",
       "    </tr>\n",
       "  </tbody>\n",
       "</table>\n",
       "</div>"
      ],
      "text/plain": [
       "      tconst  start_year                genres                       title\n",
       "0  tt0063540        2013    Action,Crime,Drama                   Sunghursh\n",
       "1  tt0066787        2019       Biography,Drama             Ashad Ka Ek Din\n",
       "2  tt0069049        2018                 Drama  The Other Side of the Wind\n",
       "3  tt0069204        2018          Comedy,Drama             Sabse Bada Sukh\n",
       "4  tt0100275        2017  Comedy,Drama,Fantasy       La Telenovela Errante"
      ]
     },
     "execution_count": 22,
     "metadata": {},
     "output_type": "execute_result"
    }
   ],
   "source": [
    "dict1 = cleaned_dict[\"imdb_title_basics_gz_cleaned\"]\n",
    "dict2 = cleaned_dict[\"imdb_title_akas_gz_cleaned\"]\n",
    "left_l = [\"tconst\", \"original_title\"]\n",
    "right_l =[\"title_id\", \"title\"]\n",
    "to_pick = [\"tconst\", \"start_year\", \"genres\", \"title\"]\n",
    "cleaned_dict[\"title_genres_year\"] = dict1.merge(dict2, left_on = left_l, right_on = right_l\n",
    "                               )\n",
    "cleaned_dict[\"title_genres_year\"] = cleaned_dict[\"title_genres_year\"][to_pick]\n",
    "cleaned_dict[\"title_genres_year\"].drop_duplicates(inplace = True)\n",
    "cleaned_dict[\"title_genres_year\"].head()"
   ]
  },
  {
   "cell_type": "markdown",
   "metadata": {},
   "source": [
    "Now we have `tconst`, `genres`, `title` and `year` of the movies. Let's check the percentage of null values in this data frame:"
   ]
  },
  {
   "cell_type": "code",
   "execution_count": 24,
   "metadata": {},
   "outputs": [],
   "source": [
    "# null_norm(cleaned_dict[\"title_genres_year\"])"
   ]
  },
  {
   "cell_type": "markdown",
   "metadata": {},
   "source": [
    "So, around $1.2\\%$ of the values in the genres are missing. Because genres are categorical data, we may not be able to replace them, so we might need to drop the rows where data are missing. "
   ]
  },
  {
   "cell_type": "code",
   "execution_count": 25,
   "metadata": {},
   "outputs": [],
   "source": [
    "cleaned_dict[\"title_genres_year\"].dropna(inplace = True)"
   ]
  },
  {
   "cell_type": "markdown",
   "metadata": {},
   "source": [
    "In summary, we created a new dataframe called \"`title_genre_year`\" in which we have the following information:"
   ]
  },
  {
   "cell_type": "markdown",
   "metadata": {},
   "source": [
    "`\"tconst\", \"start_year\", \"genres\", \"title\"`"
   ]
  },
  {
   "cell_type": "markdown",
   "metadata": {},
   "source": [
    "## **Creating a new `DataFrame` called `title_genres_year_budgets` by merging: \\underline{`tn_movie_budgets_gz`} with \\underline{`title_genres_year`}**\n",
    "\n"
   ]
  },
  {
   "cell_type": "markdown",
   "metadata": {},
   "source": [
    "Now that we have name, genre and the production o=year of each movie, we can merge recently made dataframe `title_genres_year` with the dataframe `tn_movie_budgets_gz` to get information about the budget, domestic and worldwide gross of each movie. "
   ]
  },
  {
   "cell_type": "code",
   "execution_count": 26,
   "metadata": {},
   "outputs": [],
   "source": [
    "dict1 = cleaned_dict[\"tn_movie_budgets_gz_cleaned\"]\n",
    "dict2 = cleaned_dict[\"title_genres_year\"]\n",
    "\n",
    "left_l = [\"movie\", \"year\"]\n",
    "right_l =[\"title\", \"start_year\"]\n",
    "\n",
    "cleaned_dict[\"title_genres_year_budgets\"] = dict1.merge(dict2, left_on = left_l,\n",
    "                                               right_on = right_l)\n",
    "\n",
    "to_pick = [\"id\", \"movie\", \"production_budget\", \"domestic_gross\",\n",
    "           \"worldwide_gross\", \"return_ratio\", \"year\", \"tconst\", \"genres\"]\n",
    "\n",
    "# to_pick = [\"id\", \"movie\", \"production_budget\", \"domestic_gross\",\n",
    "#            \"worldwide_gross\", \"individual_ratio\", \"net_return\", \"return_ratio\", \n",
    "#            \"year\", \"tconst\", \"genres\"]\n",
    "# cleaned_dict[\"title_genres_year_budgets\"] = cleaned_dict[\"title_genres_year_budgets\"][to_pick] \n",
    "cleaned_dict[\"title_genres_year_budgets\"].drop_duplicates(inplace = True)"
   ]
  },
  {
   "cell_type": "code",
   "execution_count": 27,
   "metadata": {},
   "outputs": [
    {
     "data": {
      "text/html": [
       "<div>\n",
       "<style scoped>\n",
       "    .dataframe tbody tr th:only-of-type {\n",
       "        vertical-align: middle;\n",
       "    }\n",
       "\n",
       "    .dataframe tbody tr th {\n",
       "        vertical-align: top;\n",
       "    }\n",
       "\n",
       "    .dataframe thead th {\n",
       "        text-align: right;\n",
       "    }\n",
       "</style>\n",
       "<table border=\"1\" class=\"dataframe\">\n",
       "  <thead>\n",
       "    <tr style=\"text-align: right;\">\n",
       "      <th></th>\n",
       "      <th>id</th>\n",
       "      <th>movie</th>\n",
       "      <th>production_budget</th>\n",
       "      <th>domestic_gross</th>\n",
       "      <th>worldwide_gross</th>\n",
       "      <th>year</th>\n",
       "      <th>individual_ratio</th>\n",
       "      <th>net_return</th>\n",
       "      <th>return_ratio</th>\n",
       "      <th>tconst</th>\n",
       "      <th>start_year</th>\n",
       "      <th>genres</th>\n",
       "      <th>title</th>\n",
       "    </tr>\n",
       "  </thead>\n",
       "  <tbody>\n",
       "    <tr>\n",
       "      <th>0</th>\n",
       "      <td>2</td>\n",
       "      <td>Pirates of the Caribbean: On Stranger Tides</td>\n",
       "      <td>410600000.0</td>\n",
       "      <td>241063875.0</td>\n",
       "      <td>1.045664e+09</td>\n",
       "      <td>2011</td>\n",
       "      <td>3.133774</td>\n",
       "      <td>8.761278e+08</td>\n",
       "      <td>2.133774</td>\n",
       "      <td>tt1298650</td>\n",
       "      <td>2011</td>\n",
       "      <td>Action,Adventure,Fantasy</td>\n",
       "      <td>Pirates of the Caribbean: On Stranger Tides</td>\n",
       "    </tr>\n",
       "    <tr>\n",
       "      <th>1</th>\n",
       "      <td>3</td>\n",
       "      <td>Dark Phoenix</td>\n",
       "      <td>350000000.0</td>\n",
       "      <td>42762350.0</td>\n",
       "      <td>1.497624e+08</td>\n",
       "      <td>2019</td>\n",
       "      <td>0.550071</td>\n",
       "      <td>-1.574753e+08</td>\n",
       "      <td>-0.449929</td>\n",
       "      <td>tt6565702</td>\n",
       "      <td>2019</td>\n",
       "      <td>Action,Adventure,Sci-Fi</td>\n",
       "      <td>Dark Phoenix</td>\n",
       "    </tr>\n",
       "    <tr>\n",
       "      <th>2</th>\n",
       "      <td>4</td>\n",
       "      <td>Avengers: Age of Ultron</td>\n",
       "      <td>330600000.0</td>\n",
       "      <td>459005868.0</td>\n",
       "      <td>1.403014e+09</td>\n",
       "      <td>2015</td>\n",
       "      <td>5.632244</td>\n",
       "      <td>1.531420e+09</td>\n",
       "      <td>4.632244</td>\n",
       "      <td>tt2395427</td>\n",
       "      <td>2015</td>\n",
       "      <td>Action,Adventure,Sci-Fi</td>\n",
       "      <td>Avengers: Age of Ultron</td>\n",
       "    </tr>\n",
       "    <tr>\n",
       "      <th>3</th>\n",
       "      <td>7</td>\n",
       "      <td>Avengers: Infinity War</td>\n",
       "      <td>300000000.0</td>\n",
       "      <td>678815482.0</td>\n",
       "      <td>2.048134e+09</td>\n",
       "      <td>2018</td>\n",
       "      <td>9.089832</td>\n",
       "      <td>2.426950e+09</td>\n",
       "      <td>8.089832</td>\n",
       "      <td>tt4154756</td>\n",
       "      <td>2018</td>\n",
       "      <td>Action,Adventure,Sci-Fi</td>\n",
       "      <td>Avengers: Infinity War</td>\n",
       "    </tr>\n",
       "    <tr>\n",
       "      <th>4</th>\n",
       "      <td>9</td>\n",
       "      <td>Justice League</td>\n",
       "      <td>300000000.0</td>\n",
       "      <td>229024295.0</td>\n",
       "      <td>6.559452e+08</td>\n",
       "      <td>2017</td>\n",
       "      <td>2.949898</td>\n",
       "      <td>5.849695e+08</td>\n",
       "      <td>1.949898</td>\n",
       "      <td>tt0974015</td>\n",
       "      <td>2017</td>\n",
       "      <td>Action,Adventure,Fantasy</td>\n",
       "      <td>Justice League</td>\n",
       "    </tr>\n",
       "  </tbody>\n",
       "</table>\n",
       "</div>"
      ],
      "text/plain": [
       "   id                                        movie  production_budget  \\\n",
       "0   2  Pirates of the Caribbean: On Stranger Tides        410600000.0   \n",
       "1   3                                 Dark Phoenix        350000000.0   \n",
       "2   4                      Avengers: Age of Ultron        330600000.0   \n",
       "3   7                       Avengers: Infinity War        300000000.0   \n",
       "4   9                               Justice League        300000000.0   \n",
       "\n",
       "   domestic_gross  worldwide_gross  year  individual_ratio    net_return  \\\n",
       "0     241063875.0     1.045664e+09  2011          3.133774  8.761278e+08   \n",
       "1      42762350.0     1.497624e+08  2019          0.550071 -1.574753e+08   \n",
       "2     459005868.0     1.403014e+09  2015          5.632244  1.531420e+09   \n",
       "3     678815482.0     2.048134e+09  2018          9.089832  2.426950e+09   \n",
       "4     229024295.0     6.559452e+08  2017          2.949898  5.849695e+08   \n",
       "\n",
       "   return_ratio     tconst  start_year                    genres  \\\n",
       "0      2.133774  tt1298650        2011  Action,Adventure,Fantasy   \n",
       "1     -0.449929  tt6565702        2019   Action,Adventure,Sci-Fi   \n",
       "2      4.632244  tt2395427        2015   Action,Adventure,Sci-Fi   \n",
       "3      8.089832  tt4154756        2018   Action,Adventure,Sci-Fi   \n",
       "4      1.949898  tt0974015        2017  Action,Adventure,Fantasy   \n",
       "\n",
       "                                         title  \n",
       "0  Pirates of the Caribbean: On Stranger Tides  \n",
       "1                                 Dark Phoenix  \n",
       "2                      Avengers: Age of Ultron  \n",
       "3                       Avengers: Infinity War  \n",
       "4                               Justice League  "
      ]
     },
     "execution_count": 27,
     "metadata": {},
     "output_type": "execute_result"
    }
   ],
   "source": [
    "cleaned_dict[\"title_genres_year_budgets\"].head()"
   ]
  },
  {
   "cell_type": "markdown",
   "metadata": {},
   "source": [
    "We want to group by the dataframe according to the genre of the movie. First we check the missing data in the column `genres` and we may need to drop the rows where `genres` is missing. "
   ]
  },
  {
   "cell_type": "code",
   "execution_count": null,
   "metadata": {},
   "outputs": [],
   "source": []
  },
  {
   "cell_type": "markdown",
   "metadata": {},
   "source": [
    "In summary, we created a dataframe called `title_genres_year_budgets` in which we have access to the following information "
   ]
  },
  {
   "cell_type": "markdown",
   "metadata": {},
   "source": [
    "\n",
    "`\"movie\", \"return_ratio\", \"year\", \"tconst\", \"genres\"`"
   ]
  },
  {
   "cell_type": "markdown",
   "metadata": {},
   "source": [
    "## **Creating a new `DataFrame` called `title_genres_year_budgets_studio` by Merging: \\underline{`title_genres_year_budgets`} with \\underline{`bom_movie_gorss`}**"
   ]
  },
  {
   "cell_type": "markdown",
   "metadata": {},
   "source": [
    "By merging previously created dataframe `title_genres_year_budgets` with `bom_movie_gross_gz` we can add the name of the studio that made the movie to our existing dataframe. "
   ]
  },
  {
   "cell_type": "code",
   "execution_count": 34,
   "metadata": {},
   "outputs": [],
   "source": [
    "dict1 = cleaned_dict[\"title_genres_year_budgets\"]\n",
    "dict2 = cleaned_dict[\"bom_movie_gross_gz_cleaned\"][[\"title\", \"studio\", \"year\"]]\n",
    "dict2.head()\n",
    "left_l = [\"movie\", \"year\"]\n",
    "right_l =[\"title\", \"year\"]\n",
    "cleaned_dict[\"title_genres_year_budgets_studio\"] = dict1.merge(dict2, left_on = left_l,\n",
    "                                                     right_on = right_l )\n",
    "cleaned_dict[\"title_genres_year_budgets_studio\"].head()\n",
    "\n",
    "to_drop = [\"title_x\", \"title_y\", \"start_year\", \"individual_ratio\", \"net_return\"]\n",
    "cleaned_dict[\"title_genres_year_budgets_studio\"].drop(columns = to_drop, inplace = True, \n",
    "                                            axis = 1)\n",
    "cleaned_dict[\"title_genres_year_budgets_studio\"].drop_duplicates(inplace = True)\n",
    "\n",
    "# to_rename = {\"domestic_gross\":\"d_gross\",\"production_budget\":\"budget\", \n",
    "#             \"worldwide_gross\":\"w_gross\",\n",
    "#             \"individual_ratio\":\"i_ratio\", \"net_return\": \"return\"}\n",
    "# cleaned_dict[\"title_genres_year_budgets_studio\"].rename(columns = to_rename, \n",
    "#                                               inplace = True)\n",
    "# cleaned_dict[\"title_genres_year_budgets_studio\"].head()"
   ]
  },
  {
   "cell_type": "code",
   "execution_count": 35,
   "metadata": {},
   "outputs": [
    {
     "data": {
      "text/html": [
       "<div>\n",
       "<style scoped>\n",
       "    .dataframe tbody tr th:only-of-type {\n",
       "        vertical-align: middle;\n",
       "    }\n",
       "\n",
       "    .dataframe tbody tr th {\n",
       "        vertical-align: top;\n",
       "    }\n",
       "\n",
       "    .dataframe thead th {\n",
       "        text-align: right;\n",
       "    }\n",
       "</style>\n",
       "<table border=\"1\" class=\"dataframe\">\n",
       "  <thead>\n",
       "    <tr style=\"text-align: right;\">\n",
       "      <th></th>\n",
       "      <th>id</th>\n",
       "      <th>movie</th>\n",
       "      <th>production_budget</th>\n",
       "      <th>domestic_gross</th>\n",
       "      <th>worldwide_gross</th>\n",
       "      <th>year</th>\n",
       "      <th>return_ratio</th>\n",
       "      <th>tconst</th>\n",
       "      <th>genres</th>\n",
       "      <th>studio</th>\n",
       "    </tr>\n",
       "  </thead>\n",
       "  <tbody>\n",
       "    <tr>\n",
       "      <th>0</th>\n",
       "      <td>2</td>\n",
       "      <td>Pirates of the Caribbean: On Stranger Tides</td>\n",
       "      <td>410600000.0</td>\n",
       "      <td>241063875.0</td>\n",
       "      <td>1.045664e+09</td>\n",
       "      <td>2011</td>\n",
       "      <td>2.133774</td>\n",
       "      <td>tt1298650</td>\n",
       "      <td>Action,Adventure,Fantasy</td>\n",
       "      <td>BV</td>\n",
       "    </tr>\n",
       "    <tr>\n",
       "      <th>1</th>\n",
       "      <td>4</td>\n",
       "      <td>Avengers: Age of Ultron</td>\n",
       "      <td>330600000.0</td>\n",
       "      <td>459005868.0</td>\n",
       "      <td>1.403014e+09</td>\n",
       "      <td>2015</td>\n",
       "      <td>4.632244</td>\n",
       "      <td>tt2395427</td>\n",
       "      <td>Action,Adventure,Sci-Fi</td>\n",
       "      <td>BV</td>\n",
       "    </tr>\n",
       "    <tr>\n",
       "      <th>2</th>\n",
       "      <td>7</td>\n",
       "      <td>Avengers: Infinity War</td>\n",
       "      <td>300000000.0</td>\n",
       "      <td>678815482.0</td>\n",
       "      <td>2.048134e+09</td>\n",
       "      <td>2018</td>\n",
       "      <td>8.089832</td>\n",
       "      <td>tt4154756</td>\n",
       "      <td>Action,Adventure,Sci-Fi</td>\n",
       "      <td>BV</td>\n",
       "    </tr>\n",
       "    <tr>\n",
       "      <th>3</th>\n",
       "      <td>9</td>\n",
       "      <td>Justice League</td>\n",
       "      <td>300000000.0</td>\n",
       "      <td>229024295.0</td>\n",
       "      <td>6.559452e+08</td>\n",
       "      <td>2017</td>\n",
       "      <td>1.949898</td>\n",
       "      <td>tt0974015</td>\n",
       "      <td>Action,Adventure,Fantasy</td>\n",
       "      <td>WB</td>\n",
       "    </tr>\n",
       "    <tr>\n",
       "      <th>4</th>\n",
       "      <td>10</td>\n",
       "      <td>Spectre</td>\n",
       "      <td>300000000.0</td>\n",
       "      <td>200074175.0</td>\n",
       "      <td>8.796209e+08</td>\n",
       "      <td>2015</td>\n",
       "      <td>2.598984</td>\n",
       "      <td>tt2379713</td>\n",
       "      <td>Action,Adventure,Thriller</td>\n",
       "      <td>Sony</td>\n",
       "    </tr>\n",
       "  </tbody>\n",
       "</table>\n",
       "</div>"
      ],
      "text/plain": [
       "   id                                        movie  production_budget  \\\n",
       "0   2  Pirates of the Caribbean: On Stranger Tides        410600000.0   \n",
       "1   4                      Avengers: Age of Ultron        330600000.0   \n",
       "2   7                       Avengers: Infinity War        300000000.0   \n",
       "3   9                               Justice League        300000000.0   \n",
       "4  10                                      Spectre        300000000.0   \n",
       "\n",
       "   domestic_gross  worldwide_gross  year  return_ratio     tconst  \\\n",
       "0     241063875.0     1.045664e+09  2011      2.133774  tt1298650   \n",
       "1     459005868.0     1.403014e+09  2015      4.632244  tt2395427   \n",
       "2     678815482.0     2.048134e+09  2018      8.089832  tt4154756   \n",
       "3     229024295.0     6.559452e+08  2017      1.949898  tt0974015   \n",
       "4     200074175.0     8.796209e+08  2015      2.598984  tt2379713   \n",
       "\n",
       "                      genres studio  \n",
       "0   Action,Adventure,Fantasy     BV  \n",
       "1    Action,Adventure,Sci-Fi     BV  \n",
       "2    Action,Adventure,Sci-Fi     BV  \n",
       "3   Action,Adventure,Fantasy     WB  \n",
       "4  Action,Adventure,Thriller   Sony  "
      ]
     },
     "execution_count": 35,
     "metadata": {},
     "output_type": "execute_result"
    }
   ],
   "source": [
    "cleaned_dict[\"title_genres_year_budgets_studio\"].head()"
   ]
  },
  {
   "cell_type": "markdown",
   "metadata": {},
   "source": [
    "For simplicity, we change the name of the some of the columns"
   ]
  },
  {
   "cell_type": "code",
   "execution_count": 33,
   "metadata": {},
   "outputs": [],
   "source": [
    "# to_rename = {\"domestic_gross\":\"d_gross\",\"production_budget\":\"budget\", \n",
    "#             \"worldwide_gross\":\"w_gross\",\n",
    "#             \"individual_ratio\":\"i_ratio\", \"net_return\": \"return\"}\n",
    "# cleaned_dict[\"title_genres_year_budgets_studio\"].rename(columns = to_rename, \n",
    "#                                               inplace = True)\n",
    "# cleaned_dict[\"title_genres_year_budgets_studio\"].head()\n",
    "# cleaned_dict[\"title_genres_year_budgets_studio\"].info()\n"
   ]
  },
  {
   "cell_type": "markdown",
   "metadata": {},
   "source": [
    "In summary, we created a dataframe called `title_genres_year_budgets_studio` with the following information about a movie:"
   ]
  },
  {
   "cell_type": "markdown",
   "metadata": {},
   "source": [
    "`'movie', 'return_ratio', 'year', 'tconst', 'genres', 'studio'`"
   ]
  },
  {
   "cell_type": "markdown",
   "metadata": {},
   "source": [
    "## Data Analysis about Genre and the Budget and Returns"
   ]
  },
  {
   "cell_type": "markdown",
   "metadata": {},
   "source": [
    "In order for us to be able to analyze the genres with the highest return and votes, we need to merge `title_genres_year_budgets_studio` with `imdb_title_ratings_gz` as:"
   ]
  },
  {
   "cell_type": "code",
   "execution_count": 82,
   "metadata": {},
   "outputs": [
    {
     "data": {
      "text/html": [
       "<div>\n",
       "<style scoped>\n",
       "    .dataframe tbody tr th:only-of-type {\n",
       "        vertical-align: middle;\n",
       "    }\n",
       "\n",
       "    .dataframe tbody tr th {\n",
       "        vertical-align: top;\n",
       "    }\n",
       "\n",
       "    .dataframe thead th {\n",
       "        text-align: right;\n",
       "    }\n",
       "</style>\n",
       "<table border=\"1\" class=\"dataframe\">\n",
       "  <thead>\n",
       "    <tr style=\"text-align: right;\">\n",
       "      <th></th>\n",
       "      <th>movie</th>\n",
       "      <th>return_ratio</th>\n",
       "      <th>year</th>\n",
       "      <th>tconst</th>\n",
       "      <th>genres</th>\n",
       "      <th>studio</th>\n",
       "      <th>averagerating</th>\n",
       "      <th>numvotes</th>\n",
       "    </tr>\n",
       "  </thead>\n",
       "  <tbody>\n",
       "    <tr>\n",
       "      <th>0</th>\n",
       "      <td>Pirates of the Caribbean: On Stranger Tides</td>\n",
       "      <td>2.133774</td>\n",
       "      <td>2011</td>\n",
       "      <td>tt1298650</td>\n",
       "      <td>Action,Adventure,Fantasy</td>\n",
       "      <td>BV</td>\n",
       "      <td>6.6</td>\n",
       "      <td>447624</td>\n",
       "    </tr>\n",
       "    <tr>\n",
       "      <th>1</th>\n",
       "      <td>Avengers: Age of Ultron</td>\n",
       "      <td>4.632244</td>\n",
       "      <td>2015</td>\n",
       "      <td>tt2395427</td>\n",
       "      <td>Action,Adventure,Sci-Fi</td>\n",
       "      <td>BV</td>\n",
       "      <td>7.3</td>\n",
       "      <td>665594</td>\n",
       "    </tr>\n",
       "    <tr>\n",
       "      <th>2</th>\n",
       "      <td>Avengers: Infinity War</td>\n",
       "      <td>8.089832</td>\n",
       "      <td>2018</td>\n",
       "      <td>tt4154756</td>\n",
       "      <td>Action,Adventure,Sci-Fi</td>\n",
       "      <td>BV</td>\n",
       "      <td>8.5</td>\n",
       "      <td>670926</td>\n",
       "    </tr>\n",
       "    <tr>\n",
       "      <th>3</th>\n",
       "      <td>Justice League</td>\n",
       "      <td>1.949898</td>\n",
       "      <td>2017</td>\n",
       "      <td>tt0974015</td>\n",
       "      <td>Action,Adventure,Fantasy</td>\n",
       "      <td>WB</td>\n",
       "      <td>6.5</td>\n",
       "      <td>329135</td>\n",
       "    </tr>\n",
       "    <tr>\n",
       "      <th>4</th>\n",
       "      <td>Spectre</td>\n",
       "      <td>2.598984</td>\n",
       "      <td>2015</td>\n",
       "      <td>tt2379713</td>\n",
       "      <td>Action,Adventure,Thriller</td>\n",
       "      <td>Sony</td>\n",
       "      <td>6.8</td>\n",
       "      <td>352504</td>\n",
       "    </tr>\n",
       "  </tbody>\n",
       "</table>\n",
       "</div>"
      ],
      "text/plain": [
       "                                         movie  return_ratio  year     tconst  \\\n",
       "0  Pirates of the Caribbean: On Stranger Tides      2.133774  2011  tt1298650   \n",
       "1                      Avengers: Age of Ultron      4.632244  2015  tt2395427   \n",
       "2                       Avengers: Infinity War      8.089832  2018  tt4154756   \n",
       "3                               Justice League      1.949898  2017  tt0974015   \n",
       "4                                      Spectre      2.598984  2015  tt2379713   \n",
       "\n",
       "                      genres studio  averagerating  numvotes  \n",
       "0   Action,Adventure,Fantasy     BV            6.6    447624  \n",
       "1    Action,Adventure,Sci-Fi     BV            7.3    665594  \n",
       "2    Action,Adventure,Sci-Fi     BV            8.5    670926  \n",
       "3   Action,Adventure,Fantasy     WB            6.5    329135  \n",
       "4  Action,Adventure,Thriller   Sony            6.8    352504  "
      ]
     },
     "execution_count": 82,
     "metadata": {},
     "output_type": "execute_result"
    }
   ],
   "source": [
    "dict1 = cleaned_dict[\"title_genres_year_budgets_studio\"]\n",
    "dict2 = cleaned_dict[\"imdb_title_ratings_gz\"]\n",
    "left_l = [\"tconst\"]\n",
    "right_l =[\"tconst\"]\n",
    "dict2.head()\n",
    "\n",
    "cleaned_dict[\"title_genres_year_budgets_studio_rating\"] = dict1.merge(dict2, \n",
    "                                      left_on = left_l, \n",
    "                                      right_on = right_l\n",
    "                                     )\n",
    "\n",
    "cleaned_dict[\"title_genres_year_budgets_studio_rating\"].head()"
   ]
  },
  {
   "cell_type": "markdown",
   "metadata": {},
   "source": [
    "### Genres with the Highest Average Rating"
   ]
  },
  {
   "cell_type": "markdown",
   "metadata": {},
   "source": [
    "In this part, we want to find top 5 genres with the highest average rating. "
   ]
  },
  {
   "cell_type": "code",
   "execution_count": 86,
   "metadata": {},
   "outputs": [],
   "source": [
    "data = cleaned_dict[\"title_genres_year_budgets_studio_rating\"][\"genres\"]\n",
    "cleaned_dict[\"title_genres_year_budgets_studio_rating\"][\"genres\"] = data.apply(prep_expand)\n",
    "\n",
    "\n",
    "cleaned_dict[\"title_genres_year_budgets_studio_rating\"] = (\n",
    "    cleaned_dict[\"title_genres_year_budgets_studio_rating\"].explode(\"genres\")\n",
    ")"
   ]
  },
  {
   "cell_type": "code",
   "execution_count": 87,
   "metadata": {},
   "outputs": [
    {
     "name": "stderr",
     "output_type": "stream",
     "text": [
      "<ipython-input-87-b7eb08da7106>:3: FutureWarning: Indexing with multiple keys (implicitly converted to a tuple of keys) will be deprecated, use a list instead.\n",
      "  genre_ave_rating = data.groupby(\"genres\")[\"averagerating\", \"numvotes\"].mean()\n"
     ]
    },
    {
     "data": {
      "text/html": [
       "<div>\n",
       "<style scoped>\n",
       "    .dataframe tbody tr th:only-of-type {\n",
       "        vertical-align: middle;\n",
       "    }\n",
       "\n",
       "    .dataframe tbody tr th {\n",
       "        vertical-align: top;\n",
       "    }\n",
       "\n",
       "    .dataframe thead th {\n",
       "        text-align: right;\n",
       "    }\n",
       "</style>\n",
       "<table border=\"1\" class=\"dataframe\">\n",
       "  <thead>\n",
       "    <tr style=\"text-align: right;\">\n",
       "      <th></th>\n",
       "      <th>genres</th>\n",
       "      <th>averagerating</th>\n",
       "      <th>numvotes</th>\n",
       "    </tr>\n",
       "  </thead>\n",
       "  <tbody>\n",
       "    <tr>\n",
       "      <th>0</th>\n",
       "      <td>Biography</td>\n",
       "      <td>7.071845</td>\n",
       "      <td>131100.135922</td>\n",
       "    </tr>\n",
       "    <tr>\n",
       "      <th>1</th>\n",
       "      <td>History</td>\n",
       "      <td>7.051724</td>\n",
       "      <td>123938.206897</td>\n",
       "    </tr>\n",
       "    <tr>\n",
       "      <th>2</th>\n",
       "      <td>Sport</td>\n",
       "      <td>7.004762</td>\n",
       "      <td>101311.285714</td>\n",
       "    </tr>\n",
       "    <tr>\n",
       "      <th>3</th>\n",
       "      <td>Western</td>\n",
       "      <td>6.983333</td>\n",
       "      <td>294135.666667</td>\n",
       "    </tr>\n",
       "    <tr>\n",
       "      <th>4</th>\n",
       "      <td>Musical</td>\n",
       "      <td>6.750000</td>\n",
       "      <td>93641.250000</td>\n",
       "    </tr>\n",
       "  </tbody>\n",
       "</table>\n",
       "</div>"
      ],
      "text/plain": [
       "      genres  averagerating       numvotes\n",
       "0  Biography       7.071845  131100.135922\n",
       "1    History       7.051724  123938.206897\n",
       "2      Sport       7.004762  101311.285714\n",
       "3    Western       6.983333  294135.666667\n",
       "4    Musical       6.750000   93641.250000"
      ]
     },
     "execution_count": 87,
     "metadata": {},
     "output_type": "execute_result"
    }
   ],
   "source": [
    "data = cleaned_dict[\"title_genres_year_budgets_studio_rating\"]\n",
    "data.head()\n",
    "genre_ave_rating = data.groupby(\"genres\")[\"averagerating\", \"numvotes\"].mean()\n",
    "\n",
    "\n",
    "top_5 = genre_ave_rating.sort_values(\"averagerating\", ascending=False).head()\n",
    "top_5.reset_index(inplace = True)\n",
    "top_5"
   ]
  },
  {
   "cell_type": "code",
   "execution_count": 88,
   "metadata": {},
   "outputs": [
    {
     "data": {
      "image/png": "[encoded data removed]",
      "text/plain": [
       "<Figure size 360x360 with 1 Axes>"
      ]
     },
     "metadata": {},
     "output_type": "display_data"
    }
   ],
   "source": [
    "sns.set(rc={\"figure.figsize\":(5, 5)}, font = \"Times\") #width=10, height=10\n",
    "\n",
    "\n",
    "title = \"\\n Top 5 Genres with the highest average rating\\n\"\n",
    "sns.barplot(x = \"genres\", \n",
    "            y = \"averagerating\", \n",
    "            data = top_5, \n",
    "            color = \"tab:blue\").set_title(title,\n",
    "                                         fontdict = { 'fontsize': 20})\n",
    "plt.xticks(rotation = 90, fontsize = 20)\n",
    "plt.yticks(rotation = 0, fontsize = 20)\n",
    "plt.xlabel(\"\\n\\nGenre Name\", fontsize = 20)\n",
    "plt.ylabel(\"Average Rating\", fontsize = 15)\n",
    "# plt.title(\"\\nTop 10 movies produced with the highest ratio\\n\", fontsize = 20)\n",
    "plt.show()"
   ]
  },
  {
   "cell_type": "markdown",
   "metadata": {},
   "source": [
    "### Genre-budget-d_gross-w_gross-year"
   ]
  },
  {
   "cell_type": "markdown",
   "metadata": {},
   "source": [
    "In this part we want to find the total budget, domestic gross and worldwide gross of each genre."
   ]
  },
  {
   "cell_type": "code",
   "execution_count": 91,
   "metadata": {},
   "outputs": [],
   "source": [
    "# to_pick = [\"genres\",\"budget\", \"d_gross\", \"w_gross\", \"return_ratio\",\"year\"]\n",
    "# data = df[\"title_genres_year_budgets_studio_rating\"]\n",
    "\n",
    "# df[\"Genre-budget-d_gross-w_gross-year\"] = data[to_pick]\n",
    "# # df[\"Genre-budget-d_gross-w_gross-year\"].head()"
   ]
  },
  {
   "cell_type": "markdown",
   "metadata": {},
   "source": [
    "#### Genre and Maximum Return Ratio"
   ]
  },
  {
   "cell_type": "markdown",
   "metadata": {},
   "source": [
    "In this section, by using the following equation\n",
    "\n",
    "\\begin{equation}\n",
    "\\mathscr{R} = \\frac{\\sum (d + w - b)}{\\sum b}\n",
    "\\end{equation}\n",
    "\n",
    "in which $\\mathscr{R}$, $d$, $w$, $b$ are return ration, domestic gross, worldwide gross and budget, respectively, we try to find top 5 genres with the highest return ratio. "
   ]
  },
  {
   "cell_type": "code",
   "execution_count": 104,
   "metadata": {},
   "outputs": [],
   "source": [
    "# data = df[\"Genre-budget-d_gross-w_gross-year\"]\n",
    "# genre_budget = data.groupby(\"genres\")[\"budget\", \"d_gross\", \"w_gross\"].mean()"
   ]
  },
  {
   "cell_type": "code",
   "execution_count": 293,
   "metadata": {},
   "outputs": [],
   "source": [
    "# genre_budget[\"return_ratio\"] = (genre_budget[\"d_gross\"] \n",
    "#                          +genre_budget[\"w_gross\"] \n",
    "#                          - genre_budget[\"budget\"]) / (genre_budget[\"budget\"])"
   ]
  },
  {
   "cell_type": "code",
   "execution_count": 294,
   "metadata": {},
   "outputs": [],
   "source": [
    "# genre_budget.reset_index(inplace = True)"
   ]
  },
  {
   "cell_type": "code",
   "execution_count": 295,
   "metadata": {},
   "outputs": [
    {
     "data": {
      "text/html": [
       "<div>\n",
       "<style scoped>\n",
       "    .dataframe tbody tr th:only-of-type {\n",
       "        vertical-align: middle;\n",
       "    }\n",
       "\n",
       "    .dataframe tbody tr th {\n",
       "        vertical-align: top;\n",
       "    }\n",
       "\n",
       "    .dataframe thead th {\n",
       "        text-align: right;\n",
       "    }\n",
       "</style>\n",
       "<table border=\"1\" class=\"dataframe\">\n",
       "  <thead>\n",
       "    <tr style=\"text-align: right;\">\n",
       "      <th></th>\n",
       "      <th>genres</th>\n",
       "      <th>budget</th>\n",
       "      <th>d_gross</th>\n",
       "      <th>w_gross</th>\n",
       "      <th>return_ratio</th>\n",
       "    </tr>\n",
       "  </thead>\n",
       "  <tbody>\n",
       "    <tr>\n",
       "      <th>12</th>\n",
       "      <td>Music</td>\n",
       "      <td>2.115161e+07</td>\n",
       "      <td>4.543177e+07</td>\n",
       "      <td>1.029974e+08</td>\n",
       "      <td>6.017392</td>\n",
       "    </tr>\n",
       "    <tr>\n",
       "      <th>11</th>\n",
       "      <td>Horror</td>\n",
       "      <td>2.186822e+07</td>\n",
       "      <td>4.163278e+07</td>\n",
       "      <td>9.414637e+07</td>\n",
       "      <td>5.208970</td>\n",
       "    </tr>\n",
       "    <tr>\n",
       "      <th>14</th>\n",
       "      <td>Mystery</td>\n",
       "      <td>2.797058e+07</td>\n",
       "      <td>4.915679e+07</td>\n",
       "      <td>1.142046e+08</td>\n",
       "      <td>4.840473</td>\n",
       "    </tr>\n",
       "    <tr>\n",
       "      <th>2</th>\n",
       "      <td>Animation</td>\n",
       "      <td>1.070671e+08</td>\n",
       "      <td>1.529010e+08</td>\n",
       "      <td>4.295770e+08</td>\n",
       "      <td>4.440309</td>\n",
       "    </tr>\n",
       "    <tr>\n",
       "      <th>16</th>\n",
       "      <td>Sci-Fi</td>\n",
       "      <td>1.018763e+08</td>\n",
       "      <td>1.392695e+08</td>\n",
       "      <td>3.834521e+08</td>\n",
       "      <td>4.130943</td>\n",
       "    </tr>\n",
       "  </tbody>\n",
       "</table>\n",
       "</div>"
      ],
      "text/plain": [
       "       genres        budget       d_gross       w_gross  return_ratio\n",
       "12      Music  2.115161e+07  4.543177e+07  1.029974e+08      6.017392\n",
       "11     Horror  2.186822e+07  4.163278e+07  9.414637e+07      5.208970\n",
       "14    Mystery  2.797058e+07  4.915679e+07  1.142046e+08      4.840473\n",
       "2   Animation  1.070671e+08  1.529010e+08  4.295770e+08      4.440309\n",
       "16     Sci-Fi  1.018763e+08  1.392695e+08  3.834521e+08      4.130943"
      ]
     },
     "execution_count": 295,
     "metadata": {},
     "output_type": "execute_result"
    }
   ],
   "source": [
    "# top_5_genre_budget = genre_budget.sort_values(\"return_ratio\", ascending=False).head(5)\n",
    "# top_5_genre_budget"
   ]
  },
  {
   "cell_type": "code",
   "execution_count": 296,
   "metadata": {},
   "outputs": [
    {
     "data": {
      "image/png": "[encoded data removed]",
      "text/plain": [
       "<Figure size 576x576 with 1 Axes>"
      ]
     },
     "metadata": {},
     "output_type": "display_data"
    }
   ],
   "source": [
    "sns.set(rc={\"figure.figsize\":(8, 8)}, font = \"Times\") #width=10, height=10\n",
    "d = top_5_genre_budget\n",
    "\n",
    "title = r\"$return\\_ratio = \\frac{\\sum d\\_gross + w\\_gross - budget}{\\sum budget}$\"\n",
    "sns.barplot(x = \"genres\", \n",
    "            y = \"return_ratio\", \n",
    "            data = d, \n",
    "            color = \"tab:blue\").set_title(\"\\nTop 5 genres with the highest \\n\" +\n",
    "                                          title + \"\\n\",\n",
    "                                         fontdict = { 'fontsize': 20})\n",
    "plt.xticks(rotation = 90, fontsize = 20)\n",
    "plt.yticks(rotation = 0, fontsize = 20)\n",
    "plt.xlabel(\"\\n\\nGenres\", fontsize = 20)\n",
    "plt.ylabel(\"Return Ratio\", fontsize = 15)\n",
    "# plt.title(\"\\nTop 10 movies produced with the highest ratio\\n\", fontsize = 20)\n",
    "plt.show()"
   ]
  },
  {
   "cell_type": "markdown",
   "metadata": {},
   "source": [
    "# Movies (DO NOT INCLUDE IN THE FINAL REPORT)"
   ]
  },
  {
   "cell_type": "markdown",
   "metadata": {},
   "source": [
    "## Top 5 Movies with a Budget more than 10 millions"
   ]
  },
  {
   "cell_type": "markdown",
   "metadata": {},
   "source": [
    "In this section, we want to find top 5 movies with the highest return ration with the minimum budget of 10 millions"
   ]
  },
  {
   "cell_type": "code",
   "execution_count": null,
   "metadata": {},
   "outputs": [],
   "source": [
    "# h_budget = 10000000\n",
    "\n",
    "# movie_high_budget_gorss = (df[\"title_genres_year_budgets_studio_rating\"]\n",
    "#                           ).loc[df[\"title_genres_year_budgets_studio_rating\"][\"budget\"]\n",
    "#                                 >h_budget]\n",
    "# top_5 = movie_high_budget_gorss.sort_values(\"return_ratio\", ascending=False).head(5)"
   ]
  },
  {
   "cell_type": "code",
   "execution_count": null,
   "metadata": {},
   "outputs": [],
   "source": [
    "# sns.set(rc={\"figure.figsize\":(8, 8)}, font = \"Times\") #width=10, height=10\n",
    "\n",
    "\n",
    "# title = \"\\nTop 5 movies produced with the highest return ratio\\n\"\n",
    "# sns.barplot(x = \"movie\", \n",
    "#             y = \"return_ratio\", \n",
    "#             data = top_5, \n",
    "#             color = \"tab:blue\").set_title(title,\n",
    "#                                          fontdict = { 'fontsize': 20})\n",
    "# plt.xticks(rotation = 90, fontsize = 20)\n",
    "# plt.yticks(rotation = 0, fontsize = 20)\n",
    "# plt.xlabel(\"\\n\\nMovie Name\", fontsize = 20)\n",
    "# plt.ylabel(r\"$Ratio = \\frac{d\\_gross + w\\_gross - budget}{budget}$\", fontsize = 15)\n",
    "# # plt.title(\"\\nTop 10 movies produced with the highest ratio\\n\", fontsize = 20)\n",
    "# plt.show()"
   ]
  },
  {
   "cell_type": "markdown",
   "metadata": {},
   "source": [
    "## Top 5 Movies with a minimum budget of 10 millions and highest average rating. "
   ]
  },
  {
   "cell_type": "code",
   "execution_count": null,
   "metadata": {},
   "outputs": [],
   "source": [
    "# h_budget = 10000000\n",
    "\n",
    "# movie_high_budget_gorss = (df[\"title_genres_year_budgets_studio_rating\"]\n",
    "#                           ).loc[df[\"title_genres_year_budgets_studio_rating\"][\"budget\"]\n",
    "#                                 >h_budget]\n",
    "# top_5 = movie_high_budget_gorss.sort_values(\"averagerating\", ascending=False).head(5)"
   ]
  },
  {
   "cell_type": "code",
   "execution_count": null,
   "metadata": {},
   "outputs": [],
   "source": [
    "# sns.set(rc={\"figure.figsize\":(8, 8)}, font = \"Times\") #width=10, height=10\n",
    "\n",
    "\n",
    "# title = \"\\nTop 5 movies produced with the highest average rating with the minimum budget of 10 million\\n\"\n",
    "# sns.barplot(x = \"movie\", \n",
    "#             y = \"averagerating\", \n",
    "#             data = top_5, \n",
    "#             color = \"tab:blue\").set_title(title,\n",
    "#                                          fontdict = { 'fontsize': 20})\n",
    "# plt.xticks(rotation = 90, fontsize = 20)\n",
    "# plt.yticks(rotation = 0, fontsize = 20)\n",
    "# plt.xlabel(\"\\n\\nMovie Name\", fontsize = 20)\n",
    "# plt.ylabel(\"Average Rating\", fontsize = 15)\n",
    "# # plt.title(\"\\nTop 10 movies produced with the highest ratio\\n\", fontsize = 20)\n",
    "# plt.show()"
   ]
  },
  {
   "cell_type": "markdown",
   "metadata": {},
   "source": [
    "## Top 5 Movies with the highest average rating. "
   ]
  },
  {
   "cell_type": "code",
   "execution_count": null,
   "metadata": {},
   "outputs": [],
   "source": [
    "\n",
    "# movie_highest_rating = df[\"title_genres_year_budgets_studio_rating\"]\n",
    "\n",
    "# top_5 = movie_highest_rating.sort_values(\"averagerating\", ascending=False).head(5)"
   ]
  },
  {
   "cell_type": "code",
   "execution_count": null,
   "metadata": {},
   "outputs": [],
   "source": [
    "# sns.set(rc={\"figure.figsize\":(8, 8)}, font = \"Times\") #width=10, height=10\n",
    "\n",
    "\n",
    "# title = \"\\nTop 5 movies produced with the highest average rating\\n\"\n",
    "# sns.barplot(x = \"movie\", \n",
    "#             y = \"averagerating\", \n",
    "#             data = top_5, \n",
    "#             color = \"tab:blue\").set_title(title,\n",
    "#                                          fontdict = { 'fontsize': 20})\n",
    "# plt.xticks(rotation = 90, fontsize = 20)\n",
    "# plt.yticks(rotation = 0, fontsize = 20)\n",
    "# plt.xlabel(\"\\n\\nMovie Name\", fontsize = 20)\n",
    "# plt.ylabel(\"Average Rating\", fontsize = 15)\n",
    "# # plt.title(\"\\nTop 10 movies produced with the highest ratio\\n\", fontsize = 20)\n",
    "# plt.show()"
   ]
  },
  {
   "cell_type": "markdown",
   "metadata": {},
   "source": [
    "# Studios"
   ]
  },
  {
   "cell_type": "markdown",
   "metadata": {},
   "source": [
    "## Studios with the highest total gross "
   ]
  },
  {
   "cell_type": "code",
   "execution_count": 110,
   "metadata": {},
   "outputs": [],
   "source": [
    "movie_budget_gorss_studio = (\n",
    "    df[\"title_genres_year_budgets_studio_rating\"].groupby(\"studio\")[\"return_ratio\"].mean())"
   ]
  },
  {
   "cell_type": "code",
   "execution_count": 111,
   "metadata": {},
   "outputs": [],
   "source": [
    "movie_budget_gorss_studio = movie_budget_gorss_studio.reset_index()"
   ]
  },
  {
   "cell_type": "code",
   "execution_count": 123,
   "metadata": {},
   "outputs": [
    {
     "data": {
      "text/plain": [
       "<AxesSubplot:ylabel='Frequency'>"
      ]
     },
     "execution_count": 123,
     "metadata": {},
     "output_type": "execute_result"
    },
    {
     "data": {
      "image/png": "[encoded data removed]",
      "text/plain": [
       "<Figure size 576x576 with 1 Axes>"
      ]
     },
     "metadata": {},
     "output_type": "display_data"
    }
   ],
   "source": [
    "movie_budget_gorss_studio['return_ratio'].plot(kind='hist',\n",
    "                                               bins = 20)"
   ]
  },
  {
   "cell_type": "code",
   "execution_count": null,
   "metadata": {},
   "outputs": [],
   "source": []
  },
  {
   "cell_type": "code",
   "execution_count": null,
   "metadata": {},
   "outputs": [],
   "source": []
  },
  {
   "cell_type": "code",
   "execution_count": 118,
   "metadata": {},
   "outputs": [
    {
     "ename": "TypeError",
     "evalue": "no numeric data to plot",
     "output_type": "error",
     "traceback": [
      "\u001b[0;31m---------------------------------------------------------------------------\u001b[0m",
      "\u001b[0;31mTypeError\u001b[0m                                 Traceback (most recent call last)",
      "\u001b[0;32m<ipython-input-118-94e9e53c4e51>\u001b[0m in \u001b[0;36m<module>\u001b[0;34m\u001b[0m\n\u001b[0;32m----> 1\u001b[0;31m \u001b[0mmovie_budget_gorss_studio\u001b[0m\u001b[0;34m.\u001b[0m\u001b[0mplot\u001b[0m\u001b[0;34m(\u001b[0m\u001b[0;34m\"return_ratio\"\u001b[0m\u001b[0;34m,\u001b[0m \u001b[0mkind\u001b[0m \u001b[0;34m=\u001b[0m \u001b[0;34m\"hist\"\u001b[0m\u001b[0;34m,\u001b[0m \u001b[0mbins\u001b[0m \u001b[0;34m=\u001b[0m \u001b[0;36m20\u001b[0m\u001b[0;34m)\u001b[0m\u001b[0;34m\u001b[0m\u001b[0;34m\u001b[0m\u001b[0m\n\u001b[0m\u001b[1;32m      2\u001b[0m \u001b[0;34m\u001b[0m\u001b[0m\n\u001b[1;32m      3\u001b[0m \u001b[0;31m# movie_budget_gorss_studio[\"cumulative_ratio\"] = (movie_budget_gorss_studio[\"return\"]\u001b[0m\u001b[0;34m\u001b[0m\u001b[0;34m\u001b[0m\u001b[0;34m\u001b[0m\u001b[0m\n\u001b[1;32m      4\u001b[0m \u001b[0;31m#                                      )/movie_budget_gorss_studio[\"budget\"]\u001b[0m\u001b[0;34m\u001b[0m\u001b[0;34m\u001b[0m\u001b[0;34m\u001b[0m\u001b[0m\n",
      "\u001b[0;32m/opt/anaconda3/envs/learn-env/lib/python3.8/site-packages/pandas/plotting/_core.py\u001b[0m in \u001b[0;36m__call__\u001b[0;34m(self, *args, **kwargs)\u001b[0m\n\u001b[1;32m    947\u001b[0m                     \u001b[0mdata\u001b[0m\u001b[0;34m.\u001b[0m\u001b[0mcolumns\u001b[0m \u001b[0;34m=\u001b[0m \u001b[0mlabel_name\u001b[0m\u001b[0;34m\u001b[0m\u001b[0;34m\u001b[0m\u001b[0m\n\u001b[1;32m    948\u001b[0m \u001b[0;34m\u001b[0m\u001b[0m\n\u001b[0;32m--> 949\u001b[0;31m         \u001b[0;32mreturn\u001b[0m \u001b[0mplot_backend\u001b[0m\u001b[0;34m.\u001b[0m\u001b[0mplot\u001b[0m\u001b[0;34m(\u001b[0m\u001b[0mdata\u001b[0m\u001b[0;34m,\u001b[0m \u001b[0mkind\u001b[0m\u001b[0;34m=\u001b[0m\u001b[0mkind\u001b[0m\u001b[0;34m,\u001b[0m \u001b[0;34m**\u001b[0m\u001b[0mkwargs\u001b[0m\u001b[0;34m)\u001b[0m\u001b[0;34m\u001b[0m\u001b[0;34m\u001b[0m\u001b[0m\n\u001b[0m\u001b[1;32m    950\u001b[0m \u001b[0;34m\u001b[0m\u001b[0m\n\u001b[1;32m    951\u001b[0m     \u001b[0m__call__\u001b[0m\u001b[0;34m.\u001b[0m\u001b[0m__doc__\u001b[0m \u001b[0;34m=\u001b[0m \u001b[0m__doc__\u001b[0m\u001b[0;34m\u001b[0m\u001b[0;34m\u001b[0m\u001b[0m\n",
      "\u001b[0;32m/opt/anaconda3/envs/learn-env/lib/python3.8/site-packages/pandas/plotting/_matplotlib/__init__.py\u001b[0m in \u001b[0;36mplot\u001b[0;34m(data, kind, **kwargs)\u001b[0m\n\u001b[1;32m     59\u001b[0m             \u001b[0mkwargs\u001b[0m\u001b[0;34m[\u001b[0m\u001b[0;34m\"ax\"\u001b[0m\u001b[0;34m]\u001b[0m \u001b[0;34m=\u001b[0m \u001b[0mgetattr\u001b[0m\u001b[0;34m(\u001b[0m\u001b[0max\u001b[0m\u001b[0;34m,\u001b[0m \u001b[0;34m\"left_ax\"\u001b[0m\u001b[0;34m,\u001b[0m \u001b[0max\u001b[0m\u001b[0;34m)\u001b[0m\u001b[0;34m\u001b[0m\u001b[0;34m\u001b[0m\u001b[0m\n\u001b[1;32m     60\u001b[0m     \u001b[0mplot_obj\u001b[0m \u001b[0;34m=\u001b[0m \u001b[0mPLOT_CLASSES\u001b[0m\u001b[0;34m[\u001b[0m\u001b[0mkind\u001b[0m\u001b[0;34m]\u001b[0m\u001b[0;34m(\u001b[0m\u001b[0mdata\u001b[0m\u001b[0;34m,\u001b[0m \u001b[0;34m**\u001b[0m\u001b[0mkwargs\u001b[0m\u001b[0;34m)\u001b[0m\u001b[0;34m\u001b[0m\u001b[0;34m\u001b[0m\u001b[0m\n\u001b[0;32m---> 61\u001b[0;31m     \u001b[0mplot_obj\u001b[0m\u001b[0;34m.\u001b[0m\u001b[0mgenerate\u001b[0m\u001b[0;34m(\u001b[0m\u001b[0;34m)\u001b[0m\u001b[0;34m\u001b[0m\u001b[0;34m\u001b[0m\u001b[0m\n\u001b[0m\u001b[1;32m     62\u001b[0m     \u001b[0mplot_obj\u001b[0m\u001b[0;34m.\u001b[0m\u001b[0mdraw\u001b[0m\u001b[0;34m(\u001b[0m\u001b[0;34m)\u001b[0m\u001b[0;34m\u001b[0m\u001b[0;34m\u001b[0m\u001b[0m\n\u001b[1;32m     63\u001b[0m     \u001b[0;32mreturn\u001b[0m \u001b[0mplot_obj\u001b[0m\u001b[0;34m.\u001b[0m\u001b[0mresult\u001b[0m\u001b[0;34m\u001b[0m\u001b[0;34m\u001b[0m\u001b[0m\n",
      "\u001b[0;32m/opt/anaconda3/envs/learn-env/lib/python3.8/site-packages/pandas/plotting/_matplotlib/core.py\u001b[0m in \u001b[0;36mgenerate\u001b[0;34m(self)\u001b[0m\n\u001b[1;32m    267\u001b[0m     \u001b[0;32mdef\u001b[0m \u001b[0mgenerate\u001b[0m\u001b[0;34m(\u001b[0m\u001b[0mself\u001b[0m\u001b[0;34m)\u001b[0m\u001b[0;34m:\u001b[0m\u001b[0;34m\u001b[0m\u001b[0;34m\u001b[0m\u001b[0m\n\u001b[1;32m    268\u001b[0m         \u001b[0mself\u001b[0m\u001b[0;34m.\u001b[0m\u001b[0m_args_adjust\u001b[0m\u001b[0;34m(\u001b[0m\u001b[0;34m)\u001b[0m\u001b[0;34m\u001b[0m\u001b[0;34m\u001b[0m\u001b[0m\n\u001b[0;32m--> 269\u001b[0;31m         \u001b[0mself\u001b[0m\u001b[0;34m.\u001b[0m\u001b[0m_compute_plot_data\u001b[0m\u001b[0;34m(\u001b[0m\u001b[0;34m)\u001b[0m\u001b[0;34m\u001b[0m\u001b[0;34m\u001b[0m\u001b[0m\n\u001b[0m\u001b[1;32m    270\u001b[0m         \u001b[0mself\u001b[0m\u001b[0;34m.\u001b[0m\u001b[0m_setup_subplots\u001b[0m\u001b[0;34m(\u001b[0m\u001b[0;34m)\u001b[0m\u001b[0;34m\u001b[0m\u001b[0;34m\u001b[0m\u001b[0m\n\u001b[1;32m    271\u001b[0m         \u001b[0mself\u001b[0m\u001b[0;34m.\u001b[0m\u001b[0m_make_plot\u001b[0m\u001b[0;34m(\u001b[0m\u001b[0;34m)\u001b[0m\u001b[0;34m\u001b[0m\u001b[0;34m\u001b[0m\u001b[0m\n",
      "\u001b[0;32m/opt/anaconda3/envs/learn-env/lib/python3.8/site-packages/pandas/plotting/_matplotlib/core.py\u001b[0m in \u001b[0;36m_compute_plot_data\u001b[0;34m(self)\u001b[0m\n\u001b[1;32m    416\u001b[0m         \u001b[0;31m# no non-numeric frames or series allowed\u001b[0m\u001b[0;34m\u001b[0m\u001b[0;34m\u001b[0m\u001b[0;34m\u001b[0m\u001b[0m\n\u001b[1;32m    417\u001b[0m         \u001b[0;32mif\u001b[0m \u001b[0mis_empty\u001b[0m\u001b[0;34m:\u001b[0m\u001b[0;34m\u001b[0m\u001b[0;34m\u001b[0m\u001b[0m\n\u001b[0;32m--> 418\u001b[0;31m             \u001b[0;32mraise\u001b[0m \u001b[0mTypeError\u001b[0m\u001b[0;34m(\u001b[0m\u001b[0;34m\"no numeric data to plot\"\u001b[0m\u001b[0;34m)\u001b[0m\u001b[0;34m\u001b[0m\u001b[0;34m\u001b[0m\u001b[0m\n\u001b[0m\u001b[1;32m    419\u001b[0m \u001b[0;34m\u001b[0m\u001b[0m\n\u001b[1;32m    420\u001b[0m         \u001b[0;31m# GH25587: cast ExtensionArray of pandas (IntegerArray, etc.) to\u001b[0m\u001b[0;34m\u001b[0m\u001b[0;34m\u001b[0m\u001b[0;34m\u001b[0m\u001b[0m\n",
      "\u001b[0;31mTypeError\u001b[0m: no numeric data to plot"
     ]
    }
   ],
   "source": [
    "# movie_budget_gorss_studio.plot(\"return_ratio\", kind = \"hist\", bins = 20)\n",
    "\n",
    "# movie_budget_gorss_studio[\"cumulative_ratio\"] = (movie_budget_gorss_studio[\"return\"]\n",
    "#                                      )/movie_budget_gorss_studio[\"budget\"]"
   ]
  },
  {
   "cell_type": "code",
   "execution_count": 113,
   "metadata": {},
   "outputs": [],
   "source": [
    "column = \"return_ratio\"\n",
    "top10_total_ratio_studio = movie_budget_gorss_studio.sort_values(column, \n",
    "                                                                 ascending=False).head(10)"
   ]
  },
  {
   "cell_type": "code",
   "execution_count": 116,
   "metadata": {},
   "outputs": [
    {
     "data": {
      "image/png": "[encoded data removed]",
      "text/plain": [
       "<Figure size 576x576 with 1 Axes>"
      ]
     },
     "metadata": {},
     "output_type": "display_data"
    }
   ],
   "source": [
    "sns.set(rc={\"figure.figsize\":(8, 8)}, font = \"Times\") #width=10, height=10\n",
    "\n",
    "sns.barplot(x = \"studio\", \n",
    "            y = \"return_ratio\", \n",
    "            data = top10_total_ratio_studio, \n",
    "            color = \"tab:blue\").set_title(\n",
    "    \"\\nTop 10 Studio with the highest total ratio\"\n",
    "                                         ,fontdict = { 'fontsize': 20})\n",
    "plt.xticks(rotation = 90, fontsize = 20)\n",
    "plt.yticks(rotation = 0, fontsize = 20)\n",
    "plt.xlabel(\"\\n\\n Studio\", fontsize = 20)\n",
    "plt.ylabel(\"Ratio\", fontsize = 15)\n",
    "# plt.title(\"\\nTop 10 movies produced with the highest ratio\\n\", fontsize = 20)\n",
    "plt.show()"
   ]
  },
  {
   "cell_type": "markdown",
   "metadata": {},
   "source": [
    "## **Studio, who made more movies since $2010$ (DO NOT INCLUDE IN THE FINAL REPORT)**"
   ]
  },
  {
   "cell_type": "code",
   "execution_count": 154,
   "metadata": {},
   "outputs": [],
   "source": [
    "# movie_budget_gorss_studio_year = (df[\"title_genres_year_budgets_studio_rating\"]\n",
    "#                                  )[df[\"title_genres_year_budgets_studio_rating\"][\"year\"] >= 2010]"
   ]
  },
  {
   "cell_type": "code",
   "execution_count": 155,
   "metadata": {},
   "outputs": [],
   "source": [
    "# movie_budget_gorss_studio_year_movie = (movie_budget_gorss_studio_year\n",
    "#                                        ).groupby(\"studio\").movie.count()"
   ]
  },
  {
   "cell_type": "code",
   "execution_count": 156,
   "metadata": {},
   "outputs": [],
   "source": [
    "# top10_movie_made = movie_budget_gorss_studio_year_movie.sort_values(ascending=False).head(10)\n",
    "# top10_movie_made_df = top10_movie_made.to_frame()\n",
    "# top10_movie_made_df.reset_index(inplace = True)"
   ]
  },
  {
   "cell_type": "code",
   "execution_count": 304,
   "metadata": {},
   "outputs": [],
   "source": [
    "# sns.set(rc={\"figure.figsize\":(10, 10)}, font = \"Times\") #width=10, height=10\n",
    "\n",
    "\n",
    "\n",
    "# sns.barplot(x = \"studio\", \n",
    "#             y = \"movie\", \n",
    "#             data = top10_movie_made_df, \n",
    "#             color = \"tab:blue\").set_title(\n",
    "#     \"\\nTop 10 Studio that made the highest number of movies since 2010\"                            \n",
    "#                                          ,fontdict = { 'fontsize': 20})\n",
    "# plt.xticks(rotation = 90, fontsize = 20)\n",
    "# plt.yticks(rotation = 0, fontsize = 20)\n",
    "# plt.xlabel(\"\\n\\nStudio\", fontsize = 20)\n",
    "# plt.ylabel(\"Total Number of Movies made since 2010\", fontsize = 15)\n",
    "\n",
    "# plt.show()"
   ]
  },
  {
   "cell_type": "markdown",
   "metadata": {},
   "source": [
    "## Studio with the highest average rating"
   ]
  },
  {
   "cell_type": "code",
   "execution_count": 305,
   "metadata": {},
   "outputs": [],
   "source": [
    "data = df[\"title_genres_year_budgets_studio_rating\"]\n",
    "studio_rating = data.groupby(\"studio\")[[\"budget\", \"averagerating\"]].mean()\n",
    "studio_rating.reset_index(inplace = True)\n",
    "top5_studio_rating = studio_rating.sort_values(\"averagerating\", ascending=False).head(5)"
   ]
  },
  {
   "cell_type": "code",
   "execution_count": 306,
   "metadata": {},
   "outputs": [
    {
     "data": {
      "image/png": "[encoded data removed]",
      "text/plain": [
       "<Figure size 360x360 with 1 Axes>"
      ]
     },
     "metadata": {},
     "output_type": "display_data"
    }
   ],
   "source": [
    "sns.set(rc={\"figure.figsize\":(5, 5)}, font = \"Times\") #width=10, height=10\n",
    "\n",
    "\n",
    "\n",
    "sns.barplot(x = \"studio\", \n",
    "            y = \"averagerating\", \n",
    "            data = top5_studio_rating, \n",
    "            color = \"tab:blue\").set_title(\n",
    "    \"\\nTop 5 Studio with the highest average rating \\n\"                            \n",
    "                                         ,fontdict = { 'fontsize': 20})\n",
    "plt.xticks(rotation = 90, fontsize = 20)\n",
    "plt.yticks(rotation = 0, fontsize = 20)\n",
    "plt.xlabel(\"\\n\\nStudio\", fontsize = 20)\n",
    "plt.ylabel(\"average rating\", fontsize = 20)\n",
    "\n",
    "plt.show()"
   ]
  },
  {
   "cell_type": "markdown",
   "metadata": {},
   "source": [
    "# Directors"
   ]
  },
  {
   "cell_type": "markdown",
   "metadata": {},
   "source": [
    "## Directors with a highest Average Rating"
   ]
  },
  {
   "cell_type": "markdown",
   "metadata": {},
   "source": [
    "In this section, we try to pick top 5 directors with the highest average rating. It is important to consider the directors who are still alive. So, we will use the dataframe called `alive_people` and will merge it with `imdb_title_crew_gz` to get their name."
   ]
  },
  {
   "cell_type": "code",
   "execution_count": 307,
   "metadata": {},
   "outputs": [
    {
     "data": {
      "text/html": [
       "<div>\n",
       "<style scoped>\n",
       "    .dataframe tbody tr th:only-of-type {\n",
       "        vertical-align: middle;\n",
       "    }\n",
       "\n",
       "    .dataframe tbody tr th {\n",
       "        vertical-align: top;\n",
       "    }\n",
       "\n",
       "    .dataframe thead th {\n",
       "        text-align: right;\n",
       "    }\n",
       "</style>\n",
       "<table border=\"1\" class=\"dataframe\">\n",
       "  <thead>\n",
       "    <tr style=\"text-align: right;\">\n",
       "      <th></th>\n",
       "      <th>nconst</th>\n",
       "      <th>primary_name</th>\n",
       "      <th>tconst</th>\n",
       "    </tr>\n",
       "  </thead>\n",
       "  <tbody>\n",
       "    <tr>\n",
       "      <th>0</th>\n",
       "      <td>nm0062879</td>\n",
       "      <td>Ruel S. Bayani</td>\n",
       "      <td>tt1592569</td>\n",
       "    </tr>\n",
       "    <tr>\n",
       "      <th>1</th>\n",
       "      <td>nm0062879</td>\n",
       "      <td>Ruel S. Bayani</td>\n",
       "      <td>tt8421806</td>\n",
       "    </tr>\n",
       "    <tr>\n",
       "      <th>2</th>\n",
       "      <td>nm0062879</td>\n",
       "      <td>Ruel S. Bayani</td>\n",
       "      <td>tt2057445</td>\n",
       "    </tr>\n",
       "    <tr>\n",
       "      <th>3</th>\n",
       "      <td>nm0062879</td>\n",
       "      <td>Ruel S. Bayani</td>\n",
       "      <td>tt2590280</td>\n",
       "    </tr>\n",
       "    <tr>\n",
       "      <th>4</th>\n",
       "      <td>nm0064023</td>\n",
       "      <td>Bryan Beasley</td>\n",
       "      <td>tt4512140</td>\n",
       "    </tr>\n",
       "  </tbody>\n",
       "</table>\n",
       "</div>"
      ],
      "text/plain": [
       "      nconst    primary_name     tconst\n",
       "0  nm0062879  Ruel S. Bayani  tt1592569\n",
       "1  nm0062879  Ruel S. Bayani  tt8421806\n",
       "2  nm0062879  Ruel S. Bayani  tt2057445\n",
       "3  nm0062879  Ruel S. Bayani  tt2590280\n",
       "4  nm0064023   Bryan Beasley  tt4512140"
      ]
     },
     "execution_count": 307,
     "metadata": {},
     "output_type": "execute_result"
    }
   ],
   "source": [
    "dict1 = df[\"alive_people\"]\n",
    "dict2 = df[\"imdb_title_crew_gz\"]\n",
    "left_l = [\"nconst\"]\n",
    "right_l =[\"directors\"]\n",
    "\n",
    "df[\"alive_director_movie_id\"] = dict1.merge(dict2, \n",
    "                                      left_on = left_l, \n",
    "                                      right_on = right_l\n",
    "                                     )\n",
    "to_drop = [\"primary_profession\", \"known_for_titles\", \n",
    "           \"birth_year\", \"death_year\", \"directors\", \"writers\"]\n",
    "df[\"alive_director_movie_id\"] = df[\"alive_director_movie_id\"].drop(columns = \n",
    "                                                                   to_drop, \n",
    "                                                                   axis= 1)\n",
    "\n",
    "df[\"alive_director_movie_id\"].drop_duplicates(inplace = True)\n",
    "df[\"alive_director_movie_id\"].head()"
   ]
  },
  {
   "cell_type": "markdown",
   "metadata": {},
   "source": [
    "Now we want to merge this newly made dataframe with `title_genres_year_budgets_studio` to have a dataframe for alive directors and the budgets:"
   ]
  },
  {
   "cell_type": "code",
   "execution_count": 308,
   "metadata": {},
   "outputs": [],
   "source": [
    "dict1 = df[\"title_genres_year_budgets_studio\"]\n",
    "dict2 = df[\"alive_director_movie_id\"]\n",
    "left_l = [\"tconst\"]\n",
    "right_l =[\"tconst\"]\n",
    "dict2.head()\n",
    "df[\"alive_director_budget_genres\"] = dict1.merge(dict2, \n",
    "                                      left_on = left_l, \n",
    "                                      right_on = right_l\n",
    "                                     )\n",
    "to_rename = {\"primary_name\":\"director\"}\n",
    "df[\"alive_director_budget_genres\"].rename(columns = to_rename, inplace = True)\n",
    "df[\"alive_director_budget_genres\"].drop_duplicates(inplace = True)\n",
    "# df[\"alive_director_budget_genres\"].head()"
   ]
  },
  {
   "cell_type": "markdown",
   "metadata": {},
   "source": [
    "By merging dataframe `alive_director_budget_genres` with `imdb_title_ratings_gz`, we can find the average rating of each director"
   ]
  },
  {
   "cell_type": "code",
   "execution_count": 309,
   "metadata": {},
   "outputs": [
    {
     "data": {
      "text/html": [
       "<div>\n",
       "<style scoped>\n",
       "    .dataframe tbody tr th:only-of-type {\n",
       "        vertical-align: middle;\n",
       "    }\n",
       "\n",
       "    .dataframe tbody tr th {\n",
       "        vertical-align: top;\n",
       "    }\n",
       "\n",
       "    .dataframe thead th {\n",
       "        text-align: right;\n",
       "    }\n",
       "</style>\n",
       "<table border=\"1\" class=\"dataframe\">\n",
       "  <thead>\n",
       "    <tr style=\"text-align: right;\">\n",
       "      <th></th>\n",
       "      <th>id</th>\n",
       "      <th>movie</th>\n",
       "      <th>budget</th>\n",
       "      <th>d_gross</th>\n",
       "      <th>w_gross</th>\n",
       "      <th>i_ratio</th>\n",
       "      <th>return</th>\n",
       "      <th>return_ratio</th>\n",
       "      <th>year</th>\n",
       "      <th>tconst</th>\n",
       "      <th>genres</th>\n",
       "      <th>studio</th>\n",
       "      <th>nconst</th>\n",
       "      <th>director</th>\n",
       "      <th>averagerating</th>\n",
       "      <th>numvotes</th>\n",
       "    </tr>\n",
       "  </thead>\n",
       "  <tbody>\n",
       "    <tr>\n",
       "      <th>0</th>\n",
       "      <td>2</td>\n",
       "      <td>Pirates of the Caribbean: On Stranger Tides</td>\n",
       "      <td>410600000.0</td>\n",
       "      <td>241063875.0</td>\n",
       "      <td>1.045664e+09</td>\n",
       "      <td>3.133774</td>\n",
       "      <td>8.761278e+08</td>\n",
       "      <td>2.133774</td>\n",
       "      <td>2011</td>\n",
       "      <td>tt1298650</td>\n",
       "      <td>Action,Adventure,Fantasy</td>\n",
       "      <td>BV</td>\n",
       "      <td>nm0551128</td>\n",
       "      <td>Rob Marshall</td>\n",
       "      <td>6.6</td>\n",
       "      <td>447624</td>\n",
       "    </tr>\n",
       "    <tr>\n",
       "      <th>1</th>\n",
       "      <td>4</td>\n",
       "      <td>Avengers: Age of Ultron</td>\n",
       "      <td>330600000.0</td>\n",
       "      <td>459005868.0</td>\n",
       "      <td>1.403014e+09</td>\n",
       "      <td>5.632244</td>\n",
       "      <td>1.531420e+09</td>\n",
       "      <td>4.632244</td>\n",
       "      <td>2015</td>\n",
       "      <td>tt2395427</td>\n",
       "      <td>Action,Adventure,Sci-Fi</td>\n",
       "      <td>BV</td>\n",
       "      <td>nm0923736</td>\n",
       "      <td>Joss Whedon</td>\n",
       "      <td>7.3</td>\n",
       "      <td>665594</td>\n",
       "    </tr>\n",
       "    <tr>\n",
       "      <th>2</th>\n",
       "      <td>7</td>\n",
       "      <td>Avengers: Infinity War</td>\n",
       "      <td>300000000.0</td>\n",
       "      <td>678815482.0</td>\n",
       "      <td>2.048134e+09</td>\n",
       "      <td>9.089832</td>\n",
       "      <td>2.426950e+09</td>\n",
       "      <td>8.089832</td>\n",
       "      <td>2018</td>\n",
       "      <td>tt4154756</td>\n",
       "      <td>Action,Adventure,Sci-Fi</td>\n",
       "      <td>BV</td>\n",
       "      <td>nm0751648</td>\n",
       "      <td>Joe Russo</td>\n",
       "      <td>8.5</td>\n",
       "      <td>670926</td>\n",
       "    </tr>\n",
       "    <tr>\n",
       "      <th>3</th>\n",
       "      <td>7</td>\n",
       "      <td>Avengers: Infinity War</td>\n",
       "      <td>300000000.0</td>\n",
       "      <td>678815482.0</td>\n",
       "      <td>2.048134e+09</td>\n",
       "      <td>9.089832</td>\n",
       "      <td>2.426950e+09</td>\n",
       "      <td>8.089832</td>\n",
       "      <td>2018</td>\n",
       "      <td>tt4154756</td>\n",
       "      <td>Action,Adventure,Sci-Fi</td>\n",
       "      <td>BV</td>\n",
       "      <td>nm0751577</td>\n",
       "      <td>Anthony Russo</td>\n",
       "      <td>8.5</td>\n",
       "      <td>670926</td>\n",
       "    </tr>\n",
       "    <tr>\n",
       "      <th>4</th>\n",
       "      <td>9</td>\n",
       "      <td>Justice League</td>\n",
       "      <td>300000000.0</td>\n",
       "      <td>229024295.0</td>\n",
       "      <td>6.559452e+08</td>\n",
       "      <td>2.949898</td>\n",
       "      <td>5.849695e+08</td>\n",
       "      <td>1.949898</td>\n",
       "      <td>2017</td>\n",
       "      <td>tt0974015</td>\n",
       "      <td>Action,Adventure,Fantasy</td>\n",
       "      <td>WB</td>\n",
       "      <td>nm0811583</td>\n",
       "      <td>Zack Snyder</td>\n",
       "      <td>6.5</td>\n",
       "      <td>329135</td>\n",
       "    </tr>\n",
       "  </tbody>\n",
       "</table>\n",
       "</div>"
      ],
      "text/plain": [
       "   id                                        movie       budget      d_gross  \\\n",
       "0   2  Pirates of the Caribbean: On Stranger Tides  410600000.0  241063875.0   \n",
       "1   4                      Avengers: Age of Ultron  330600000.0  459005868.0   \n",
       "2   7                       Avengers: Infinity War  300000000.0  678815482.0   \n",
       "3   7                       Avengers: Infinity War  300000000.0  678815482.0   \n",
       "4   9                               Justice League  300000000.0  229024295.0   \n",
       "\n",
       "        w_gross   i_ratio        return  return_ratio  year     tconst  \\\n",
       "0  1.045664e+09  3.133774  8.761278e+08      2.133774  2011  tt1298650   \n",
       "1  1.403014e+09  5.632244  1.531420e+09      4.632244  2015  tt2395427   \n",
       "2  2.048134e+09  9.089832  2.426950e+09      8.089832  2018  tt4154756   \n",
       "3  2.048134e+09  9.089832  2.426950e+09      8.089832  2018  tt4154756   \n",
       "4  6.559452e+08  2.949898  5.849695e+08      1.949898  2017  tt0974015   \n",
       "\n",
       "                     genres studio     nconst       director  averagerating  \\\n",
       "0  Action,Adventure,Fantasy     BV  nm0551128   Rob Marshall            6.6   \n",
       "1   Action,Adventure,Sci-Fi     BV  nm0923736    Joss Whedon            7.3   \n",
       "2   Action,Adventure,Sci-Fi     BV  nm0751648      Joe Russo            8.5   \n",
       "3   Action,Adventure,Sci-Fi     BV  nm0751577  Anthony Russo            8.5   \n",
       "4  Action,Adventure,Fantasy     WB  nm0811583    Zack Snyder            6.5   \n",
       "\n",
       "   numvotes  \n",
       "0    447624  \n",
       "1    665594  \n",
       "2    670926  \n",
       "3    670926  \n",
       "4    329135  "
      ]
     },
     "execution_count": 309,
     "metadata": {},
     "output_type": "execute_result"
    }
   ],
   "source": [
    "dict1 = df[\"alive_director_budget_genres\"]\n",
    "dict2 = df[\"imdb_title_ratings_gz\"]\n",
    "left_l = [\"tconst\"]\n",
    "right_l =[\"tconst\"]\n",
    "dict2.head()\n",
    "\n",
    "df[\"alive_director_budget_genres_rating\"] = dict1.merge(dict2, \n",
    "                                      left_on = left_l, \n",
    "                                      right_on = right_l\n",
    "                                     )\n",
    "\n",
    "df[\"alive_director_budget_genres_rating\"].drop_duplicates(inplace = True)\n",
    "df[\"alive_director_budget_genres_rating\"].head()"
   ]
  },
  {
   "cell_type": "code",
   "execution_count": 310,
   "metadata": {},
   "outputs": [],
   "source": [
    "df[\"alive_director_budget_genres_rating\"][\"genres\"] = (\n",
    "    df[\"alive_director_budget_genres_rating\"][\"genres\"].apply(prep_expand)\n",
    ")"
   ]
  },
  {
   "cell_type": "code",
   "execution_count": 311,
   "metadata": {},
   "outputs": [],
   "source": [
    "df[\"alive_director_budget_genres_rating\"] = df[\"alive_director_budget_genres_rating\"].explode(\"genres\")"
   ]
  },
  {
   "cell_type": "markdown",
   "metadata": {},
   "source": [
    "Here we would like to find top 5 directors with the highest average rating:"
   ]
  },
  {
   "cell_type": "code",
   "execution_count": 312,
   "metadata": {},
   "outputs": [
    {
     "name": "stderr",
     "output_type": "stream",
     "text": [
      "<ipython-input-312-642cb32e33c7>:2: FutureWarning: Indexing with multiple keys (implicitly converted to a tuple of keys) will be deprecated, use a list instead.\n",
      "  directors_ave_rating = data.groupby(\"director\")[\"averagerating\", \"numvotes\"].mean()\n"
     ]
    },
    {
     "data": {
      "text/html": [
       "<div>\n",
       "<style scoped>\n",
       "    .dataframe tbody tr th:only-of-type {\n",
       "        vertical-align: middle;\n",
       "    }\n",
       "\n",
       "    .dataframe tbody tr th {\n",
       "        vertical-align: top;\n",
       "    }\n",
       "\n",
       "    .dataframe thead th {\n",
       "        text-align: right;\n",
       "    }\n",
       "</style>\n",
       "<table border=\"1\" class=\"dataframe\">\n",
       "  <thead>\n",
       "    <tr style=\"text-align: right;\">\n",
       "      <th></th>\n",
       "      <th>director</th>\n",
       "      <th>averagerating</th>\n",
       "      <th>numvotes</th>\n",
       "    </tr>\n",
       "  </thead>\n",
       "  <tbody>\n",
       "    <tr>\n",
       "      <th>520</th>\n",
       "      <td>Nitesh Tiwari</td>\n",
       "      <td>8.500000</td>\n",
       "      <td>1.236380e+05</td>\n",
       "    </tr>\n",
       "    <tr>\n",
       "      <th>129</th>\n",
       "      <td>Christopher Nolan</td>\n",
       "      <td>8.427273</td>\n",
       "      <td>1.236043e+06</td>\n",
       "    </tr>\n",
       "    <tr>\n",
       "      <th>6</th>\n",
       "      <td>Adrian Molina</td>\n",
       "      <td>8.400000</td>\n",
       "      <td>2.771940e+05</td>\n",
       "    </tr>\n",
       "    <tr>\n",
       "      <th>423</th>\n",
       "      <td>Lee Unkrich</td>\n",
       "      <td>8.350000</td>\n",
       "      <td>4.797060e+05</td>\n",
       "    </tr>\n",
       "    <tr>\n",
       "      <th>105</th>\n",
       "      <td>Charles Ferguson</td>\n",
       "      <td>8.300000</td>\n",
       "      <td>6.530400e+04</td>\n",
       "    </tr>\n",
       "  </tbody>\n",
       "</table>\n",
       "</div>"
      ],
      "text/plain": [
       "              director  averagerating      numvotes\n",
       "520      Nitesh Tiwari       8.500000  1.236380e+05\n",
       "129  Christopher Nolan       8.427273  1.236043e+06\n",
       "6        Adrian Molina       8.400000  2.771940e+05\n",
       "423        Lee Unkrich       8.350000  4.797060e+05\n",
       "105   Charles Ferguson       8.300000  6.530400e+04"
      ]
     },
     "execution_count": 312,
     "metadata": {},
     "output_type": "execute_result"
    }
   ],
   "source": [
    "data = df[\"alive_director_budget_genres_rating\"]\n",
    "directors_ave_rating = data.groupby(\"director\")[\"averagerating\", \"numvotes\"].mean()\n",
    "\n",
    "\n",
    "directors_ave_rating.reset_index(inplace = True)\n",
    "\n",
    "top_5_directors = directors_ave_rating.sort_values(\"averagerating\", ascending=False).head()\n",
    "top_5_directors"
   ]
  },
  {
   "cell_type": "code",
   "execution_count": 166,
   "metadata": {},
   "outputs": [
    {
     "data": {
      "image/png": "[encoded data removed]",
      "text/plain": [
       "<Figure size 720x720 with 1 Axes>"
      ]
     },
     "metadata": {},
     "output_type": "display_data"
    }
   ],
   "source": [
    "sns.set(rc={\"figure.figsize\":(10, 10)}, font = \"Times\") #width=10, height=10\n",
    "\n",
    "\n",
    "title = \"\\n Top 5 Directors with the highest average rating\\n\"\n",
    "sns.barplot(x = \"director\", \n",
    "            y = \"averagerating\", \n",
    "            data = top_5_directors, \n",
    "            color = \"tab:blue\").set_title(title,\n",
    "                                         fontdict = { 'fontsize': 20})\n",
    "plt.xticks(rotation = 90, fontsize = 20)\n",
    "plt.yticks(rotation = 0, fontsize = 20)\n",
    "plt.xlabel(\"\\n\\nDirector\", fontsize = 20)\n",
    "plt.ylabel(\"Average Rating\", fontsize = 15)\n",
    "\n",
    "plt.show()"
   ]
  },
  {
   "cell_type": "markdown",
   "metadata": {},
   "source": [
    "## Director and Genre (DO NOT INCLUDE THIS IN THE FINAL REPORT)"
   ]
  },
  {
   "cell_type": "code",
   "execution_count": 314,
   "metadata": {},
   "outputs": [],
   "source": [
    "# director_genre = df[\"alive_director_budget_genres_rating\"]\n",
    "# director_genre_count = director_rating.groupby([\"director\", \"genres\"])[[\"movie\"]].count()\n",
    "# director_genre_count.reset_index(inplace = True)\n",
    "# director_genre_count\n",
    "# top5_director_genre_count = director_genre_count.sort_values(\"movie\", \n",
    "#                                                              ascending = False).head(5)\n",
    "# top5_director_genre_count"
   ]
  },
  {
   "cell_type": "code",
   "execution_count": 315,
   "metadata": {},
   "outputs": [],
   "source": [
    "# sns.set(rc={\"figure.figsize\":(8, 8)}, font = \"Times\") #width=10, height=10\n",
    "\n",
    "\n",
    "# title = \"\\n Top 5 Directors with the highest number of movies in \\n\"\n",
    "# sns.barplot(x = \"director\", \n",
    "#             y = \"genres\", \n",
    "#             data = top5_director_genre_count, \n",
    "#             color = \"tab:blue\").set_title(title,\n",
    "#                                          fontdict = { 'fontsize': 20})\n",
    "# plt.xticks(rotation = 90, fontsize = 20)\n",
    "# plt.yticks(rotation = 0, fontsize = 20)\n",
    "# plt.xlabel(\"\\n\\nDirector\", fontsize = 20)\n",
    "# plt.ylabel(\"Average Rating\", fontsize = 15)\n",
    "# # plt.title(\"\\nTop 10 movies produced with the highest ratio\\n\", fontsize = 20)\n",
    "# plt.show()"
   ]
  },
  {
   "cell_type": "markdown",
   "metadata": {},
   "source": [
    "# Budget-Year (DO NOT INCLUDE THIS IN THE FINAL REPORT)"
   ]
  },
  {
   "cell_type": "code",
   "execution_count": 318,
   "metadata": {},
   "outputs": [],
   "source": [
    "# data = df[\"all_director_budget_genres_rating\"]\n",
    "# data.head()\n",
    "# budget_year = data.groupby(\"year\")[\"budget\", \"return\", \"return_ratio\"].sum()\n",
    "# budget_year.reset_index(inplace = True)\n",
    "# budget_year.head()"
   ]
  },
  {
   "cell_type": "code",
   "execution_count": 317,
   "metadata": {},
   "outputs": [],
   "source": [
    "# data = budget_year[[\"budget\", \"year\"]]\n",
    "\n",
    "# sns.set(rc={\"figure.figsize\":(10, 10)}, font = \"Times\") #width=10, height=10\n",
    "\n",
    "\n",
    "# title = \"\\n Total budget in each year\\n\"\n",
    "# sns.barplot(x = \"year\", \n",
    "#             y = \"budget\", \n",
    "#             data = data, \n",
    "#             color = \"tab:blue\").set_title(title,\n",
    "#                                          fontdict = { 'fontsize': 20})\n",
    "# plt.xticks(rotation = 90, fontsize = 20)\n",
    "# plt.yticks(rotation = 0, fontsize = 20)\n",
    "# plt.xlabel(\"\\n Year\", fontsize = 20)\n",
    "# plt.ylabel(\"Total Budget\", fontsize = 15)\n",
    "# # plt.title(\"\\nTop 10 movies produced with the highest ratio\\n\", fontsize = 20)\n",
    "# plt.show()"
   ]
  },
  {
   "cell_type": "code",
   "execution_count": null,
   "metadata": {},
   "outputs": [],
   "source": []
  },
  {
   "cell_type": "code",
   "execution_count": null,
   "metadata": {},
   "outputs": [],
   "source": []
  }
 ],
 "metadata": {
  "kernelspec": {
   "display_name": "Python (learn-env)",
   "language": "python",
   "name": "learn-env"
  },
  "language_info": {
   "codemirror_mode": {
    "name": "ipython",
    "version": 3
   },
   "file_extension": ".py",
   "mimetype": "text/x-python",
   "name": "python",
   "nbconvert_exporter": "python",
   "pygments_lexer": "ipython3",
   "version": "3.8.5"
  },
  "latex_envs": {
   "LaTeX_envs_menu_present": true,
   "autoclose": false,
   "autocomplete": true,
   "bibliofile": "biblio.bib",
   "cite_by": "apalike",
   "current_citInitial": 1,
   "eqLabelWithNumbers": true,
   "eqNumInitial": 1,
   "hotkeys": {
    "equation": "Ctrl-E",
    "itemize": "Ctrl-I"
   },
   "labels_anchors": false,
   "latex_user_defs": false,
   "report_style_numbering": false,
   "user_envs_cfg": false
  },
  "toc": {
   "base_numbering": 1,
   "nav_menu": {},
   "number_sections": true,
   "sideBar": true,
   "skip_h1_title": false,
   "title_cell": "Table of Contents",
   "title_sidebar": "Contents",
   "toc_cell": false,
   "toc_position": {},
   "toc_section_display": true,
   "toc_window_display": false
  },
  "varInspector": {
   "cols": {
    "lenName": 16,
    "lenType": 16,
    "lenVar": 40
   },
   "kernels_config": {
    "python": {
     "delete_cmd_postfix": "",
     "delete_cmd_prefix": "del ",
     "library": "var_list.py",
     "varRefreshCmd": "print(var_dic_list())"
    },
    "r": {
     "delete_cmd_postfix": ") ",
     "delete_cmd_prefix": "rm(",
     "library": "var_list.r",
     "varRefreshCmd": "cat(var_dic_list()) "
    }
   },
   "types_to_exclude": [
    "module",
    "function",
    "builtin_function_or_method",
    "instance",
    "_Feature"
   ],
   "window_display": false
  }
 },
 "nbformat": 4,
 "nbformat_minor": 4
}
