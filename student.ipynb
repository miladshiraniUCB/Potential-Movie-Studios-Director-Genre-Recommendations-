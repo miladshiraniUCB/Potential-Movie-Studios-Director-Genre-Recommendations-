{
 "cells": [
  {
   "cell_type": "markdown",
   "metadata": {},
   "source": [
    "[Project Goals](#Project Goals: Introduction)"
   ]
  },
  {
   "cell_type": "markdown",
   "metadata": {},
   "source": [
    "# Final Project Submission\n",
    "\n",
    "Please fill out:\n",
    "* Student name: \\author{Milad Shirani}\n",
    "* Student pace: self paced\n",
    "* Scheduled project review date/time: \n",
    "* Instructor name:  \n",
    "* Blog post URL:\n"
   ]
  },
  {
   "cell_type": "markdown",
   "metadata": {},
   "source": [
    "# Project Goals: Introduction "
   ]
  },
  {
   "cell_type": "markdown",
   "metadata": {},
   "source": [
    "In this work, we are trying to come up with some (three or more) business plans for Microsoft to consider in order for them to enter film industry. The \\textbf{goal} of this work is to come up with the best \\textbf{genre}, \\textbf{director}, \\textbf{movie studio} and the \\textbf{release month} for the movie by working with some available data. \n",
    "\n",
    "\n",
    "In order to find the right genre, studio, release month and director, we need to consider a metric using which we can evaluate data to suggest the right choices. It should be mentioned that different metrics would yield different results; therefore, the result of different analysis may be different from other analysis. Choosing the right metric depends on the goal of the company. Sometimes the goal of an industry is gaining popularity and high rates of a product, and sometimes the goal of the industry is making highest number of a specific product. Each of these goals requires choosing different metrics and in consequence, the final results usually highly depend on the metric we choose.\n",
    "\n",
    "In this report, we will consider the highest mean of the average rating of the movies to pick a genre. When we find the genre, we use the same metric to find a director whose movies in the obtained genre has the highest mean of different average ratings. Afterward, we use again the same metric to find a studio that made a movies in that genre with the highest mean of different average ratings. At the end of the report, we will suggest a month to release the movie. \n",
    "\n",
    "This report contains several parts. First, we will import the data  to work with, then, we introduce the functions we will use when it comes to data cleaning and data visualization. After that, we introduce the data we work with and we will perform some changes on them to prepare them for the next part which is merging different data frames. In this part we will merge different data frames to put the data we need next to each other to have a data frame to work with to find the results. At the end, we will have a section on data analysis in which we will use the metric we chose (which, for this work, is the highest mean of average ratings) to find the right genre, studio, director and release month. \n",
    "\n"
   ]
  },
  {
   "cell_type": "markdown",
   "metadata": {},
   "source": [
    "# **Importing Data**\n",
    "\n"
   ]
  },
  {
   "cell_type": "markdown",
   "metadata": {},
   "source": [
    "The data we will work with is saved in the folder `zippedData` and we will import them into a dictionary which we call `df`. Each key represents a name of a data frame and each value of this dictionary is the data frame. "
   ]
  },
  {
   "cell_type": "code",
   "execution_count": 1,
   "metadata": {},
   "outputs": [],
   "source": [
    "import os\n",
    "import numpy as np\n",
    "from glob import glob\n",
    "import pandas as pd\n",
    "import seaborn as sns\n",
    "from matplotlib import pyplot as plt\n",
    "\n",
    "%matplotlib inline\n",
    "\n",
    "\n",
    "csv_files = glob(\"./zippedData/*.csv.gz\")\n",
    "csv_files\n",
    "\n",
    "csv_files_dict = {}\n",
    "for filename in csv_files:\n",
    "    filename_cleaned = (os.path.basename(filename)\n",
    "                          .replace(\".csv\", \"\")\n",
    "                          .replace(\".\", \"_\"))  #cleaning the filenames\n",
    "    filename_df = pd.read_csv(filename, index_col=0)\n",
    "    csv_files_dict[filename_cleaned] = filename_df\n",
    "df ={}\n",
    "for item in csv_files_dict:\n",
    "    df[item] = csv_files_dict[item].reset_index()"
   ]
  },
  {
   "cell_type": "markdown",
   "metadata": {},
   "source": [
    "The contents of dictionary `df` are as follows:\n",
    "\n",
    "1. **`asdda`** asddsadsad\n",
    "\n",
    "\\begin{enumerate}\n",
    "\\item `df[tn_movie_budgets_gz]`. This data frame contains information about the name of movies, release data, production budget, domestic and worldwide grosses.\n",
    "\n",
    "\\item `df[imdb_title_ratings_gz]`. In this data frame we can find information about the average rating of each movie.\n",
    "\n",
    "\\item `df[tmdb_movies_gz]`. This data frame contains information on the name of the movies, genres, release data, language of movies, etc.\n",
    "\n",
    "\\item `df[imdb_title_basics_gz]`. This data frame contains information about the name of the movies, genre etc.\n",
    "\n",
    "\\item `df[imdb_title_akas_gz]`. We can use this data frame to find the name of a movie with a unique id it has in other data frames. \n",
    "\n",
    "\\item `df[imdb_name_basics_gz]`. We can use this data frame to check if a specific director, writer, etc is still alive or not.  \n",
    "\n",
    "\\item `df[imdb_title_crew_gz]`. From this data frame we can find the name of the director and the write of a movie. \n",
    "\n",
    "\n",
    "\\item `df[imdb_title_principals_gz]`. Data in this data frame represents some information about people who were participated in a movie such as their role etc.\n",
    "\n",
    "\\item `df[bom_movie_gross_gz]`. By using this data frame we can collect information about the studio, name of the movie, domestic and foreign grosses and the production year.\n",
    "\n",
    "\\end{enumerate}"
   ]
  },
  {
   "cell_type": "markdown",
   "metadata": {
    "heading_collapsed": true
   },
   "source": [
    "# Some General Functions That We Will Use (DONE DONE)\n"
   ]
  },
  {
   "cell_type": "markdown",
   "metadata": {
    "hidden": true
   },
   "source": [
    "Since we need to perform some calculations on different columns of different data frames, we define different functions to use for these performances. These functions are put in this section. These functions are: \n",
    "\n",
    "\\begin{itemize}\n",
    "\\item \\textbf{money\\_convert}. This function, gets data either as string or float and will return a float object. If the input is string and it contains $ \\$ $ it will remove this character and return a float object.\n",
    "\n",
    "\\item \\textbf{null\\_norm}. This function returns the percentage of the `Null` value of each column.  \n",
    "\n",
    "\\item \\textbf{prep\\_expand}. Some of the dataframes contain a column in which data is stored in the format `a,b,c` in which `a` and `b` and `c` are representing some information which we will use in this work. This function, will get these objects and return the list containing these object as `[a,b,c]` which will be used later. \n",
    "\n",
    "\\item \\textbf{bar\\_plot}. Since we are going to plot some bar plots for different data, we defined a function that takes some quantities including the data and gives back the bar plot of the data.\n",
    "\n",
    "\n",
    "\\end{itemize}"
   ]
  },
  {
   "cell_type": "markdown",
   "metadata": {
    "hidden": true
   },
   "source": [
    "## Converting Columns that represent budgets or income from `object` to `float`"
   ]
  },
  {
   "cell_type": "markdown",
   "metadata": {
    "hidden": true
   },
   "source": [
    "We define the function `money_convert` that takes the string and convert it to float. It should be only used for columns that are related to budget or earnings. "
   ]
  },
  {
   "cell_type": "code",
   "execution_count": 2,
   "metadata": {
    "hidden": true
   },
   "outputs": [],
   "source": [
    "def money_convert(data):\n",
    "    if (type(data) == str) or (type(data) == object):        \n",
    "        if (\"$\" in data):            \n",
    "            data = data.replace(\"$\", \"\").replace(\",\",\"\")\n",
    "            return float(data)\n",
    "        else:\n",
    "            return float(data)\n",
    "    else:\n",
    "        return float(data)"
   ]
  },
  {
   "cell_type": "markdown",
   "metadata": {
    "hidden": true
   },
   "source": [
    "## Calculating the percentage of Null Values"
   ]
  },
  {
   "cell_type": "markdown",
   "metadata": {
    "hidden": true
   },
   "source": [
    "Because we are going to use the methods `.isna().sum()` several times, we use the following function to calculate the percentage of the null values of each column."
   ]
  },
  {
   "cell_type": "code",
   "execution_count": 3,
   "metadata": {
    "hidden": true
   },
   "outputs": [],
   "source": [
    "def null_norm(data):\n",
    "    return data.isna().sum()/ len(data) * 100"
   ]
  },
  {
   "cell_type": "markdown",
   "metadata": {
    "hidden": true
   },
   "source": [
    "## Preparing columns for expansion"
   ]
  },
  {
   "cell_type": "markdown",
   "metadata": {
    "hidden": true
   },
   "source": [
    "Some of the columns contain data in the format `a,b,c`. This function changes these values and return a list `[a,b,c]` to be used for the method `.explode()`.  "
   ]
  },
  {
   "cell_type": "code",
   "execution_count": 4,
   "metadata": {
    "hidden": true
   },
   "outputs": [],
   "source": [
    "def prep_expand(data):\n",
    "    list_work = data.split(\",\")\n",
    "    return list_work"
   ]
  },
  {
   "cell_type": "markdown",
   "metadata": {
    "hidden": true
   },
   "source": [
    "## Function to plot"
   ]
  },
  {
   "cell_type": "markdown",
   "metadata": {
    "hidden": true
   },
   "source": [
    "Because we are going to plot several bar plots, we will define a function to reduce the work."
   ]
  },
  {
   "cell_type": "code",
   "execution_count": 5,
   "metadata": {
    "hidden": true
   },
   "outputs": [],
   "source": [
    "def bar_plot(data, x_val, y_val                  # values of x and y axes\n",
    "                 , x_label, y_label              # labes for x and y axes\n",
    "                 , x_rotation                    # angle of x ticks \n",
    "                 , y_rotation                    # angle of y ticks\n",
    "                 , title_I, title_II             # two strings for title\n",
    "                 , fnt                           # font size\n",
    "                 , figure_size):                 # figure size\n",
    "    \n",
    "    sns.set(rc={\"figure.figsize\":figure_size}, font = \"Times\") \n",
    "\n",
    "    \n",
    "\n",
    "    title = f\"\\n Top {title_I} with the Highest {title_II}\\n\"\n",
    "    sns.barplot(x = x_val, y = y_val, data = data, \n",
    "            color = \"tab:blue\").set_title(title,\n",
    "                                         fontdict = { 'fontsize': fnt})\n",
    "    plt.xticks(rotation = x_rotation, fontsize = fnt)\n",
    "    plt.yticks(rotation = y_rotation, fontsize = fnt)\n",
    "    plt.xlabel(f\"\\n {x_label}\", fontsize = fnt)\n",
    "    plt.ylabel(y_label, fontsize = fnt)\n",
    "    plt.show()"
   ]
  },
  {
   "cell_type": "markdown",
   "metadata": {},
   "source": [
    "# Data Cleaning"
   ]
  },
  {
   "cell_type": "markdown",
   "metadata": {},
   "source": [
    "In this section, we are trying to deal with missing data and we will create new columns for some of the data frames to make new data which we will use in the rest of the report. "
   ]
  },
  {
   "cell_type": "markdown",
   "metadata": {
    "heading_collapsed": true
   },
   "source": [
    "## `tn_movie_budgets_gz`"
   ]
  },
  {
   "cell_type": "markdown",
   "metadata": {
    "hidden": true
   },
   "source": [
    "By using the function `null_norm`, we can see that this data frame does not contain any missing data as shown below:"
   ]
  },
  {
   "cell_type": "code",
   "execution_count": 6,
   "metadata": {
    "hidden": true
   },
   "outputs": [
    {
     "data": {
      "text/plain": [
       "id                   0.0\n",
       "release_date         0.0\n",
       "movie                0.0\n",
       "production_budget    0.0\n",
       "domestic_gross       0.0\n",
       "worldwide_gross      0.0\n",
       "dtype: float64"
      ]
     },
     "execution_count": 6,
     "metadata": {},
     "output_type": "execute_result"
    }
   ],
   "source": [
    "null_norm(df[\"tn_movie_budgets_gz\"])"
   ]
  },
  {
   "cell_type": "markdown",
   "metadata": {
    "hidden": true
   },
   "source": [
    "Now, we alternate the column `release_date` and we extract the year and the month when the movie is released. Then we create new columns called `year` and `month` which will replace the column `release_date`. The reason for that is because in the rest of this report we will merge this data frame with other data frames and on different columns one of which is `year`. In order to do that, we define functions `\\textit{year}` and `\\textit{month}` to get the year and month from `release_date` column. Afterward, we will drop the column `release_date` and instead we will use the newly made column `year` in the reset of the work. Moreover, On the other hand, we would like to change the format of the months in the data frame and show their full name rather than their abbreviated name. \n",
    "In order to do that, we define the following functions which are only used in this section."
   ]
  },
  {
   "cell_type": "code",
   "execution_count": 7,
   "metadata": {
    "hidden": true
   },
   "outputs": [],
   "source": [
    "def year(data):\n",
    "    data.replace(\" \", \",\")\n",
    "    year = int(data.split(\",\")[-1])\n",
    "    return year\n",
    "\n",
    "def month(data):\n",
    "    month = data.split(\" \")[0]\n",
    "    return month\n",
    "\n",
    "\n",
    "abb_month =[\"Jan\", \"Feb\", \"Mar\", \"Apr\", \"May\", \"Jun\", \"Jul\", \n",
    "           \"Aug\", \"Sep\", \"Oct\", \"Nov\", \"Dec\"]\n",
    "\n",
    "full_month = [\"January\", \"February\", \"March\", \"April\", \"May\", \"June\",\n",
    "             \"July\", \"August\", \"September\", \"October\", \"November\", \"December\"]\n",
    "\n",
    "month_dict = dict(zip(abb_month, full_month))\n",
    "\n",
    "\n",
    "\n",
    "data = df[\"tn_movie_budgets_gz\"][\"release_date\"]\n",
    "df[\"tn_movie_budgets_gz\"][\"year\"] = data.apply(year)\n",
    "df[\"tn_movie_budgets_gz\"][\"month\"] = data.apply(month).map(month_dict)\n",
    "df[\"tn_movie_budgets_gz\"][\"month\"].value_counts()\n",
    "\n",
    "\n",
    "df[\"tn_movie_budgets_gz\"].drop(columns = \"release_date\", axis = 1, \n",
    "                                                   inplace = True)"
   ]
  },
  {
   "cell_type": "markdown",
   "metadata": {
    "hidden": true
   },
   "source": [
    "Since the movies are produced in different years and because the value of dollars in different years might be different due to different factors such as inflation rate etc, it might be a good idea to add a column to this data frame in which we store a non dimensional quantity which we obtain by combining the columns `worldwide_gross`, `domestic_gross` and `production_budget`. We name this new column `return_ratio` which is calculated as\n",
    "\n",
    "\\begin{equation}\n",
    "\\mathcal{R} = \\frac{d + w - b}{b} \\label{return ratio}\n",
    "\\end{equation}\n",
    "\n",
    "in which $\\mathcal{R}$, $d$, $w$ and $b$ stand for, `return_ratio`, `domestic_gross`, `worldwide_gross` and `production_budget`, respectively. \n",
    "\n",
    "Before creating the column in focus, first we need to convert other columns from string to float by using the function `money_convert` that we defined in the previous section. Then we use equation (\\ref{return ratio}) to create the column `return_ratio` as:\n"
   ]
  },
  {
   "cell_type": "code",
   "execution_count": 8,
   "metadata": {
    "hidden": true
   },
   "outputs": [],
   "source": [
    "to_change = [\"production_budget\", \"domestic_gross\", \"worldwide_gross\"]\n",
    "for col in to_change:\n",
    "    df[\"tn_movie_budgets_gz\"][col] = (df[\"tn_movie_budgets_gz\"][col] \n",
    "                                         .apply(money_convert))\n",
    "\n",
    "data = df[\"tn_movie_budgets_gz\"]\n",
    "data[\"return_ratio\"] = ((data[\"domestic_gross\"]\n",
    "                        +data[\"worldwide_gross\"]\n",
    "                        -data[\"production_budget\"])/data[\"production_budget\"])\n"
   ]
  },
  {
   "cell_type": "markdown",
   "metadata": {
    "heading_collapsed": true
   },
   "source": [
    "## `imdb_title_ratings_gz`"
   ]
  },
  {
   "cell_type": "markdown",
   "metadata": {
    "hidden": true
   },
   "source": [
    "We will not make any changes to this dataframe here, however, we might make changes as it may be required. The percentage of null values are:"
   ]
  },
  {
   "cell_type": "code",
   "execution_count": 9,
   "metadata": {
    "hidden": true
   },
   "outputs": [
    {
     "data": {
      "text/plain": [
       "tconst           0.0\n",
       "averagerating    0.0\n",
       "numvotes         0.0\n",
       "dtype: float64"
      ]
     },
     "execution_count": 9,
     "metadata": {},
     "output_type": "execute_result"
    }
   ],
   "source": [
    "null_norm(df[\"imdb_title_ratings_gz\"])"
   ]
  },
  {
   "cell_type": "markdown",
   "metadata": {
    "heading_collapsed": true
   },
   "source": [
    "## `tmdb_movies_gz`"
   ]
  },
  {
   "cell_type": "markdown",
   "metadata": {
    "hidden": true
   },
   "source": [
    "The percentage of null values are:"
   ]
  },
  {
   "cell_type": "code",
   "execution_count": 10,
   "metadata": {
    "hidden": true
   },
   "outputs": [
    {
     "data": {
      "text/plain": [
       "index                0.0\n",
       "genre_ids            0.0\n",
       "id                   0.0\n",
       "original_language    0.0\n",
       "original_title       0.0\n",
       "popularity           0.0\n",
       "release_date         0.0\n",
       "title                0.0\n",
       "vote_average         0.0\n",
       "vote_count           0.0\n",
       "dtype: float64"
      ]
     },
     "execution_count": 10,
     "metadata": {},
     "output_type": "execute_result"
    }
   ],
   "source": [
    "null_norm(df[\"tmdb_movies_gz\"])"
   ]
  },
  {
   "cell_type": "markdown",
   "metadata": {
    "hidden": true
   },
   "source": [
    "Since one of the information that we use when we are merging this data frame with other data frames is `year`, we are going to create a column called `year` in which we store the year from the column `release_year`. "
   ]
  },
  {
   "cell_type": "code",
   "execution_count": 11,
   "metadata": {
    "hidden": true
   },
   "outputs": [],
   "source": [
    "df[\"tmdb_movies_gz\"][\"year\"] = (df[\"tmdb_movies_gz\"][\"release_date\"]\n",
    "                               ).apply(lambda x: int(x.split(\"-\")[0]))"
   ]
  },
  {
   "cell_type": "markdown",
   "metadata": {
    "hidden": true
   },
   "source": [
    "### Creating `movie_popularity_vote` dataframe. "
   ]
  },
  {
   "cell_type": "markdown",
   "metadata": {
    "hidden": true
   },
   "source": [
    "From this dataframe we would use `title`, `year`, `vote_average`, `vote_count` and `popularity`. Therefore, we are going to pick these columns and save it in a new dataframe called `movie_popularity_vote`."
   ]
  },
  {
   "cell_type": "code",
   "execution_count": 12,
   "metadata": {
    "hidden": true
   },
   "outputs": [],
   "source": [
    "to_pick = [\"title\", \"year\", \"popularity\", \"vote_average\", \"vote_count\"]\n",
    "df[\"movie_popularity_vote\"] = df[\"tmdb_movies_gz\"][to_pick]"
   ]
  },
  {
   "cell_type": "markdown",
   "metadata": {
    "heading_collapsed": true
   },
   "source": [
    "## `imdb_title_basics_gz`"
   ]
  },
  {
   "cell_type": "markdown",
   "metadata": {
    "hidden": true
   },
   "source": [
    "The percentages of null values are:"
   ]
  },
  {
   "cell_type": "code",
   "execution_count": 13,
   "metadata": {
    "hidden": true
   },
   "outputs": [
    {
     "data": {
      "text/plain": [
       "tconst              0.000000\n",
       "primary_title       0.000000\n",
       "original_title      0.014369\n",
       "start_year          0.000000\n",
       "runtime_minutes    21.717621\n",
       "genres              3.700460\n",
       "dtype: float64"
      ]
     },
     "execution_count": 13,
     "metadata": {},
     "output_type": "execute_result"
    }
   ],
   "source": [
    "null_norm(df[\"imdb_title_basics_gz\"])"
   ]
  },
  {
   "cell_type": "markdown",
   "metadata": {
    "hidden": true
   },
   "source": [
    "As it can be seen, there are around 21 $\\%$ of the data in the column `runtime_minutes` is missing. However, since we do not consider any analysis on the run time, we will drop this column from the data frame. Moreover, because genre and original title are categorical variables, we cannot replace the missing values with other values; therefore, we will drop the rows with the missing values.  "
   ]
  },
  {
   "cell_type": "code",
   "execution_count": 14,
   "metadata": {
    "hidden": true
   },
   "outputs": [],
   "source": [
    "df[\"imdb_title_basics_gz\"].drop(columns = \"runtime_minutes\", axis = 1, \n",
    "                                                        inplace = True)\n",
    "df[\"imdb_title_basics_gz\"].dropna(subset = [\"genres\", \"original_title\"], \n",
    "                                                          inplace = True)"
   ]
  },
  {
   "cell_type": "markdown",
   "metadata": {
    "hidden": true
   },
   "source": [
    "Now we check the null values again as:"
   ]
  },
  {
   "cell_type": "code",
   "execution_count": 15,
   "metadata": {
    "hidden": true
   },
   "outputs": [
    {
     "data": {
      "text/plain": [
       "tconst            0.0\n",
       "primary_title     0.0\n",
       "original_title    0.0\n",
       "start_year        0.0\n",
       "genres            0.0\n",
       "dtype: float64"
      ]
     },
     "execution_count": 15,
     "metadata": {},
     "output_type": "execute_result"
    }
   ],
   "source": [
    "null_norm(df[\"imdb_title_basics_gz\"])"
   ]
  },
  {
   "cell_type": "markdown",
   "metadata": {
    "heading_collapsed": true
   },
   "source": [
    "## `imdb_title_akas_gz`"
   ]
  },
  {
   "cell_type": "markdown",
   "metadata": {
    "hidden": true
   },
   "source": [
    "The percentages of the missing data are:"
   ]
  },
  {
   "cell_type": "code",
   "execution_count": 16,
   "metadata": {
    "hidden": true
   },
   "outputs": [
    {
     "data": {
      "text/plain": [
       "title_id              0.000000\n",
       "ordering              0.000000\n",
       "title                 0.000000\n",
       "region               16.066481\n",
       "language             87.423991\n",
       "types                49.217523\n",
       "attributes           95.500493\n",
       "is_original_title     0.007537\n",
       "dtype: float64"
      ]
     },
     "execution_count": 16,
     "metadata": {},
     "output_type": "execute_result"
    }
   ],
   "source": [
    "null_norm(df[\"imdb_title_akas_gz\"])"
   ]
  },
  {
   "cell_type": "markdown",
   "metadata": {
    "hidden": true
   },
   "source": [
    "Because we will not consider, `region`, `language`, `types` and `attributes`, in rest of the work, we will drop these columns. On the other hand, `is_original_title` contains categorical data so, we cannot replace the missing values with other values; therefore, we are going to drop the rows containing missing values from the data frame."
   ]
  },
  {
   "cell_type": "code",
   "execution_count": 17,
   "metadata": {
    "hidden": true
   },
   "outputs": [],
   "source": [
    "to_drop = [\"region\", \"language\", \"types\", \"attributes\"]\n",
    "df[\"imdb_title_akas_gz\"].drop(columns = to_drop, axis = 1, inplace = True)\n",
    "\n",
    "df[\"imdb_title_akas_gz\"].dropna(subset= [\"is_original_title\"], inplace = True)"
   ]
  },
  {
   "cell_type": "markdown",
   "metadata": {
    "hidden": true
   },
   "source": [
    "Now we check the null values again:"
   ]
  },
  {
   "cell_type": "code",
   "execution_count": 18,
   "metadata": {
    "hidden": true
   },
   "outputs": [
    {
     "data": {
      "text/plain": [
       "title_id             0.0\n",
       "ordering             0.0\n",
       "title                0.0\n",
       "is_original_title    0.0\n",
       "dtype: float64"
      ]
     },
     "execution_count": 18,
     "metadata": {},
     "output_type": "execute_result"
    }
   ],
   "source": [
    "null_norm(df[\"imdb_title_akas_gz\"])"
   ]
  },
  {
   "cell_type": "markdown",
   "metadata": {
    "hidden": true
   },
   "source": [
    "This dataframe contains a column called `is_original_title` that takes on two different values. When a value in this column is $1.0$, we can conclude that a movie with the name listed in the column `title` has the id (starting with `tt`) listed in `title_id`. Therefore, wherever we see the this type of id for movies, we can come back to this dataframe and check if `is_original_title` is equal to $1.0$ or not. \n",
    "\n",
    "With those being said, we are going to change this dataframe and just pick the rows where `is_original_title` is equal to $1.0$."
   ]
  },
  {
   "cell_type": "code",
   "execution_count": 19,
   "metadata": {
    "hidden": true
   },
   "outputs": [],
   "source": [
    "df[\"imdb_title_akas_gz\"].head()\n",
    "condition = df[\"imdb_title_akas_gz\"][\"is_original_title\"] == 1.0\n",
    "df[\"imdb_title_akas_gz\"] = df[\"imdb_title_akas_gz\"][condition]\n"
   ]
  },
  {
   "cell_type": "markdown",
   "metadata": {
    "heading_collapsed": true
   },
   "source": [
    "## `imdb_name_basics_gz`"
   ]
  },
  {
   "cell_type": "markdown",
   "metadata": {
    "hidden": true
   },
   "source": [
    "The percentages of the null values are:"
   ]
  },
  {
   "cell_type": "code",
   "execution_count": 20,
   "metadata": {
    "hidden": true
   },
   "outputs": [
    {
     "data": {
      "text/plain": [
       "nconst                 0.000000\n",
       "primary_name           0.000000\n",
       "birth_year            86.361778\n",
       "death_year            98.881889\n",
       "primary_profession     8.462898\n",
       "known_for_titles       4.978835\n",
       "dtype: float64"
      ]
     },
     "execution_count": 20,
     "metadata": {},
     "output_type": "execute_result"
    }
   ],
   "source": [
    "null_norm(df[\"imdb_name_basics_gz\"])"
   ]
  },
  {
   "cell_type": "markdown",
   "metadata": {
    "hidden": true
   },
   "source": [
    "In the reset of the work, we will not use the information listed in columns `primary_profession` and `known_for_titles`. So, we will drop these columns from the data frame"
   ]
  },
  {
   "cell_type": "code",
   "execution_count": 21,
   "metadata": {
    "hidden": true
   },
   "outputs": [],
   "source": [
    "to_drop = [\"primary_profession\", \"known_for_titles\"]\n",
    "df[\"imdb_name_basics_gz\"].drop(columns = to_drop, axis = 1, inplace = True)"
   ]
  },
  {
   "cell_type": "markdown",
   "metadata": {
    "hidden": true
   },
   "source": [
    "Now we have:"
   ]
  },
  {
   "cell_type": "code",
   "execution_count": 22,
   "metadata": {
    "hidden": true
   },
   "outputs": [
    {
     "data": {
      "text/plain": [
       "nconst           0.000000\n",
       "primary_name     0.000000\n",
       "birth_year      86.361778\n",
       "death_year      98.881889\n",
       "dtype: float64"
      ]
     },
     "execution_count": 22,
     "metadata": {},
     "output_type": "execute_result"
    }
   ],
   "source": [
    "null_norm(df[\"imdb_name_basics_gz\"])"
   ]
  },
  {
   "cell_type": "markdown",
   "metadata": {
    "hidden": true
   },
   "source": [
    "This data frame gives us information about the role, date of birth and date of death of the people who participated in different movies. Because we want to suggest a director to Microsoft, it is important to collect  information about the directors who are still alive by checking the column `death_year`. It would be rational to pick the data with the constraint that `death_year` is `Null`."
   ]
  },
  {
   "cell_type": "markdown",
   "metadata": {
    "hidden": true
   },
   "source": [
    "### Creating a new `DataFrame` called `alive_people`.\n"
   ]
  },
  {
   "cell_type": "markdown",
   "metadata": {
    "hidden": true
   },
   "source": [
    "When we want to recommend a director, it is important to check that the director is still alive. If the director is still alive, we expect that the value of the column `death_year` is missing. \n",
    "\n",
    "By using `null_norm(df[\"imdb_name_basics_gz\"])`, we find that there are about $98.88\\%$ of the values in the column, `death_year` are missing. This might mean that the director or the writer or the actress etc. might be still alive because the death year is missing. Similarly, about $86\\%$ of the data in the column `birth_year` is missing as well. However, the birth date may not be important to check if a director is still alive or not because in the rest of the work, we will mostly work with movies with the release year after 2010 so directors who are still alive and active has probably made some movies after 2010. Therefore, it might be reasonable to neglect the column `birth_year` in our slicing process.\n",
    "\n",
    "We will create a new `DataFrame` called `alive_people` where the `death_data` in the original data frame is null"
   ]
  },
  {
   "cell_type": "code",
   "execution_count": 23,
   "metadata": {
    "hidden": true
   },
   "outputs": [],
   "source": [
    "condition = df[\"imdb_name_basics_gz\"][\"death_year\"].isna()\n",
    "alive_people = df[\"imdb_name_basics_gz\"].loc[condition]"
   ]
  },
  {
   "cell_type": "markdown",
   "metadata": {
    "hidden": true
   },
   "source": [
    "Now, we do not need the columns `\"birth_year` and `death_year` anymore and we will drop these columns from the newly made data frame `alive_people`"
   ]
  },
  {
   "cell_type": "code",
   "execution_count": 24,
   "metadata": {
    "hidden": true
   },
   "outputs": [
    {
     "name": "stderr",
     "output_type": "stream",
     "text": [
      "/opt/anaconda3/envs/learn-env/lib/python3.8/site-packages/pandas/core/frame.py:4163: SettingWithCopyWarning: \n",
      "A value is trying to be set on a copy of a slice from a DataFrame\n",
      "\n",
      "See the caveats in the documentation: https://pandas.pydata.org/pandas-docs/stable/user_guide/indexing.html#returning-a-view-versus-a-copy\n",
      "  return super().drop(\n"
     ]
    }
   ],
   "source": [
    "to_drop = [\"birth_year\", \"death_year\"]\n",
    "alive_people.drop(columns = to_drop, axis = 1, inplace = True)"
   ]
  },
  {
   "cell_type": "markdown",
   "metadata": {
    "hidden": true
   },
   "source": [
    "Now we have:"
   ]
  },
  {
   "cell_type": "code",
   "execution_count": 25,
   "metadata": {
    "hidden": true
   },
   "outputs": [
    {
     "data": {
      "text/plain": [
       "nconst          0.0\n",
       "primary_name    0.0\n",
       "dtype: float64"
      ]
     },
     "execution_count": 25,
     "metadata": {},
     "output_type": "execute_result"
    }
   ],
   "source": [
    "null_norm(alive_people)"
   ]
  },
  {
   "cell_type": "markdown",
   "metadata": {
    "heading_collapsed": true
   },
   "source": [
    "## `imdb_title_crew_gz`"
   ]
  },
  {
   "cell_type": "markdown",
   "metadata": {
    "hidden": true
   },
   "source": [
    "The percentages of the null values are:"
   ]
  },
  {
   "cell_type": "code",
   "execution_count": 26,
   "metadata": {
    "hidden": true
   },
   "outputs": [
    {
     "data": {
      "text/plain": [
       "tconst        0.000000\n",
       "directors     3.918738\n",
       "writers      24.553180\n",
       "dtype: float64"
      ]
     },
     "execution_count": 26,
     "metadata": {},
     "output_type": "execute_result"
    }
   ],
   "source": [
    "null_norm(df[\"imdb_title_crew_gz\"])"
   ]
  },
  {
   "cell_type": "markdown",
   "metadata": {
    "hidden": true
   },
   "source": [
    "We will use this data frame to pick the movies and their directors because we want to recommend a director at the end of this report. First we need to drop the rows where the director's id is missing because we cannot replace these values. Then we are going to apply the function `prep_expand`, that we previously introduced, on the column `director` and then we will expand the data frame so that each row of the column `directors` has only one director's id. "
   ]
  },
  {
   "cell_type": "code",
   "execution_count": 27,
   "metadata": {
    "hidden": true
   },
   "outputs": [],
   "source": [
    "data = df[\"imdb_title_crew_gz\"][\"directors\"]\n",
    "to_drop = df[\"imdb_title_crew_gz\"].loc[data.isna()].index\n",
    "df[\"imdb_title_crew_gz\"] = df[\"imdb_title_crew_gz\"].drop(to_drop)\n",
    "\n",
    "\n",
    "df[\"imdb_title_crew_gz\"][\"directors\"]=df[\"imdb_title_crew_gz\"][\"directors\"].apply(prep_expand)\n",
    "\n",
    "df[\"imdb_title_crew_gz\"] = df[\"imdb_title_crew_gz\"].explode(\"directors\")\n",
    "\n",
    "df[\"imdb_title_crew_gz\"].reset_index(inplace = True, drop = True)"
   ]
  },
  {
   "cell_type": "code",
   "execution_count": 28,
   "metadata": {
    "hidden": true
   },
   "outputs": [
    {
     "data": {
      "text/plain": [
       "tconst        0.000000\n",
       "directors     0.000000\n",
       "writers      22.635521\n",
       "dtype: float64"
      ]
     },
     "execution_count": 28,
     "metadata": {},
     "output_type": "execute_result"
    }
   ],
   "source": [
    "null_norm(df[\"imdb_title_crew_gz\"])"
   ]
  },
  {
   "cell_type": "markdown",
   "metadata": {
    "hidden": true
   },
   "source": [
    "Moreover, we are not going to recommend a write, so we can drop the column `writers` as well"
   ]
  },
  {
   "cell_type": "code",
   "execution_count": 29,
   "metadata": {
    "hidden": true
   },
   "outputs": [],
   "source": [
    "df[\"imdb_title_crew_gz\"].drop(columns = \"writers\", inplace = True, axis = 1)"
   ]
  },
  {
   "cell_type": "markdown",
   "metadata": {
    "hidden": true
   },
   "source": [
    "So we have:"
   ]
  },
  {
   "cell_type": "code",
   "execution_count": 30,
   "metadata": {
    "hidden": true
   },
   "outputs": [
    {
     "data": {
      "text/plain": [
       "tconst       0.0\n",
       "directors    0.0\n",
       "dtype: float64"
      ]
     },
     "execution_count": 30,
     "metadata": {},
     "output_type": "execute_result"
    }
   ],
   "source": [
    "null_norm(df[\"imdb_title_crew_gz\"])"
   ]
  },
  {
   "cell_type": "markdown",
   "metadata": {
    "heading_collapsed": true
   },
   "source": [
    "## `imdb_title_principals_gz`"
   ]
  },
  {
   "cell_type": "markdown",
   "metadata": {
    "hidden": true
   },
   "source": [
    "We will not use this data frame so we will not make any changes."
   ]
  },
  {
   "cell_type": "markdown",
   "metadata": {
    "heading_collapsed": true
   },
   "source": [
    "## `bom_movie_gross_gz`"
   ]
  },
  {
   "cell_type": "markdown",
   "metadata": {
    "hidden": true
   },
   "source": [
    "The percentages of null values are:"
   ]
  },
  {
   "cell_type": "code",
   "execution_count": 31,
   "metadata": {
    "hidden": true
   },
   "outputs": [
    {
     "data": {
      "text/plain": [
       "title              0.000000\n",
       "studio             0.147623\n",
       "domestic_gross     0.826690\n",
       "foreign_gross     39.858282\n",
       "year               0.000000\n",
       "dtype: float64"
      ]
     },
     "execution_count": 31,
     "metadata": {},
     "output_type": "execute_result"
    }
   ],
   "source": [
    "null_norm(df[\"bom_movie_gross_gz\"])"
   ]
  },
  {
   "cell_type": "markdown",
   "metadata": {
    "hidden": true
   },
   "source": [
    "We use this data frame to find out which studio made the movie, because in the rest of this report, we are using this data frame to suggest a studio to work with. \n",
    "\n",
    "By using `null_norm(df[\"bom_movie_gross_gz\"])` we find that about $0.15\\%$ of the data in the column `studio` is missing. Since, data stored in the column `studio` is a categorical data, we may not be able to replace the missing values. So, instead, we might just drop the rows where data is missing.\n",
    "\n",
    "On the other hand, we see that around $39.9\\%$ if the data in the column `foreign_gross` are missing. Because we also have information about `domestic_gross` and `foreign_gross` in another data frame (`tn_movie_budgets_gz`), we might be able to drop these columns without missing that much information."
   ]
  },
  {
   "cell_type": "code",
   "execution_count": 32,
   "metadata": {
    "hidden": true
   },
   "outputs": [],
   "source": [
    "to_drop_index = df[\"bom_movie_gross_gz\"].loc[(df[\"bom_movie_gross_gz\"][\"studio\"])\n",
    "                                       .isna()].index\n",
    "df[\"bom_movie_gross_gz\"].drop(to_drop_index, inplace = True)\n",
    "\n",
    "to_drop = [\"domestic_gross\", \"foreign_gross\"]\n",
    "df[\"bom_movie_gross_gz\"].drop(to_drop, inplace = True, axis = 1)"
   ]
  },
  {
   "cell_type": "markdown",
   "metadata": {
    "hidden": true
   },
   "source": [
    "Now we have:"
   ]
  },
  {
   "cell_type": "code",
   "execution_count": 33,
   "metadata": {
    "hidden": true
   },
   "outputs": [
    {
     "data": {
      "text/plain": [
       "title     0.0\n",
       "studio    0.0\n",
       "year      0.0\n",
       "dtype: float64"
      ]
     },
     "execution_count": 33,
     "metadata": {},
     "output_type": "execute_result"
    }
   ],
   "source": [
    "null_norm(df[\"bom_movie_gross_gz\"])"
   ]
  },
  {
   "cell_type": "markdown",
   "metadata": {
    "heading_collapsed": true
   },
   "source": [
    "# Saving Cleaned Data"
   ]
  },
  {
   "cell_type": "markdown",
   "metadata": {
    "hidden": true
   },
   "source": [
    "In this part, we will save the cleaned data in the folder `cleaned_data`"
   ]
  },
  {
   "cell_type": "code",
   "execution_count": 34,
   "metadata": {
    "hidden": true
   },
   "outputs": [],
   "source": [
    "for item in df:\n",
    "    df[item].to_csv(f\"./cleaned_data/{item}.csv\", index = False)"
   ]
  },
  {
   "cell_type": "markdown",
   "metadata": {
    "heading_collapsed": true
   },
   "source": [
    "# **Merging `DataFrames` and Data Analyzing**"
   ]
  },
  {
   "cell_type": "markdown",
   "metadata": {
    "hidden": true
   },
   "source": [
    "In this section, we will merge some of the previous data frames to create new ones so that we could perform analysis on them. After making these data frames, we work on them by using aggregating methods to get new data frames we need for analyzing data."
   ]
  },
  {
   "cell_type": "markdown",
   "metadata": {
    "heading_collapsed": true,
    "hidden": true
   },
   "source": [
    "## `alive_director_movie_id` from `alive_people` and `imdb_title_crew_gz`."
   ]
  },
  {
   "cell_type": "markdown",
   "metadata": {
    "hidden": true,
    "variables": {
     "column": "<p><strong>NameError</strong>: name &#39;column&#39; is not defined</p>\n"
    }
   },
   "source": [
    "As we mentioned, we try to find the genre with the highest `{{column}}` mean. Then we want to suggest a director who made the highest `{{column}}` mean in that specific genre. Therefore, we need to connect the directors to genre. So, we will merge data frame `alive_people` and `imdb_title_crew_gz` to create a data frame in which we have information about the alive directors and the movies they made. "
   ]
  },
  {
   "cell_type": "code",
   "execution_count": 35,
   "metadata": {
    "hidden": true
   },
   "outputs": [],
   "source": [
    "dict1 = alive_people\n",
    "dict2 = df[\"imdb_title_crew_gz\"]\n",
    "left_l = [\"nconst\"]\n",
    "right_l =[\"directors\"]\n",
    "\n",
    "alive_director_movie_id = dict1.merge(dict2, \n",
    "                                      left_on = left_l, \n",
    "                                      right_on = right_l\n",
    "                                     )\n",
    "to_drop = [\"directors\", \"nconst\"]\n",
    "alive_director_movie_id = alive_director_movie_id.drop(columns = to_drop, \n",
    "                                                          axis = 1)\n",
    "\n",
    "alive_director_movie_id.drop_duplicates(inplace = True)"
   ]
  },
  {
   "cell_type": "markdown",
   "metadata": {
    "hidden": true
   },
   "source": [
    "We can see that this data frame does not contain any null values so we do not need to deal with missing data. \n",
    "\n",
    "In summary, the data frame `alive_director_movie_id` contains the following information:\n",
    "\n",
    "`'primary_name', 'tconst'`"
   ]
  },
  {
   "cell_type": "markdown",
   "metadata": {
    "heading_collapsed": true,
    "hidden": true
   },
   "source": [
    "## `title_genres_year` from `imdb_title_basics_gz` and `imdb_title_akas_gz`"
   ]
  },
  {
   "cell_type": "markdown",
   "metadata": {
    "hidden": true
   },
   "source": [
    "We realized that in some of the dataframes e.g. `imdb_title_basics_gz` we have two different columns in which a name of a movie is listed. However, there are rows in these two columns that have different names for a same movie. Some of the names are not accurate and have to be changed. In the dataframe `imdb_title_akas_gz` there is a column called \"`is_original_title`\" with the values `0.0` and `1.0`. This column can be used to check  the name of movie with the id starting with `tt`. Therefore, we are going to merge the dataframes `imdb_title_basics_gz` and `imdb_title_akas_gz` to find the real name of the movies as well as their genres, title, start_year etc. "
   ]
  },
  {
   "cell_type": "code",
   "execution_count": 36,
   "metadata": {
    "hidden": true
   },
   "outputs": [],
   "source": [
    "dict1 = df[\"imdb_title_basics_gz\"]\n",
    "dict2 = df[\"imdb_title_akas_gz\"]\n",
    "left_l = [\"tconst\", \"original_title\"]\n",
    "right_l =[\"title_id\", \"title\"]\n",
    "\n",
    "\n",
    "title_genres_year = dict1.merge(dict2, left_on = left_l, right_on = right_l)\n",
    "\n",
    "to_pick = [\"tconst\", \"start_year\", \"genres\", \"title\"]\n",
    "title_genres_year = title_genres_year[to_pick]\n",
    "title_genres_year.drop_duplicates(inplace = True)"
   ]
  },
  {
   "cell_type": "code",
   "execution_count": 37,
   "metadata": {
    "hidden": true
   },
   "outputs": [
    {
     "data": {
      "text/plain": [
       "tconst        0.0\n",
       "start_year    0.0\n",
       "genres        0.0\n",
       "title         0.0\n",
       "dtype: float64"
      ]
     },
     "execution_count": 37,
     "metadata": {},
     "output_type": "execute_result"
    }
   ],
   "source": [
    "null_norm(title_genres_year)"
   ]
  },
  {
   "cell_type": "markdown",
   "metadata": {
    "hidden": true
   },
   "source": [
    "Now we have `tconst`, `genres`, `title` and `year` of the movies. By using `null_norm(title_genres_year)` we see that we do not have any missing values.\n",
    "\n",
    "In summary, we created a new data frame called `title_genre_year` in which we have the following information:\n",
    "\n",
    "`\"tconst\", \"start_year\", \"genres\", \"title\"`"
   ]
  },
  {
   "cell_type": "markdown",
   "metadata": {
    "heading_collapsed": true,
    "hidden": true
   },
   "source": [
    "## **`title_genres_year_budgets`  from `tn_movie_budgets_gz` and `title_genres_year`**\n",
    "\n"
   ]
  },
  {
   "cell_type": "markdown",
   "metadata": {
    "hidden": true
   },
   "source": [
    "Now that we have name, genre and the production year of each movie stored in the data frame , we can merge recently made dataframe `title_genres_year` with the dataframe `tn_movie_budgets_gz` to get information about the budget, domestic and worldwide gross of each movie. "
   ]
  },
  {
   "cell_type": "code",
   "execution_count": 38,
   "metadata": {
    "hidden": true
   },
   "outputs": [],
   "source": [
    "dict1 = df[\"tn_movie_budgets_gz\"]\n",
    "dict2 = title_genres_year\n",
    "\n",
    "left_l = [\"movie\", \"year\"]\n",
    "right_l =[\"title\", \"start_year\"]\n",
    "\n",
    "title_genres_year_budgets = dict1.merge(dict2, left_on = left_l,\n",
    "                                               right_on = right_l)\n",
    "\n",
    "\n",
    "\n",
    "to_pick = [\"movie\", \"production_budget\", \"domestic_gross\",\n",
    "           \"worldwide_gross\", \"return_ratio\", \"year\", \"month\", \"tconst\", \n",
    "           \"genres\"]\n",
    "\n",
    "\n",
    "title_genres_year_budgets = title_genres_year_budgets[to_pick] \n",
    "title_genres_year_budgets.drop_duplicates(inplace = True)"
   ]
  },
  {
   "cell_type": "markdown",
   "metadata": {
    "hidden": true
   },
   "source": [
    "By calculating `null_norm(title_genres_year_budgets)` we find that we don't have any null values in this data frame. \n",
    "\n",
    "In summary, we created a dataframe called `title_genres_year_budgets` in which we have access to the following information \n",
    "\n",
    "`\"movie\", \"production_budget\", \"domestic_gross\", \"worldwide_gross\", \"return_ratio\", \"year\", \"month\",\"tconst\", \"genres\"`"
   ]
  },
  {
   "cell_type": "markdown",
   "metadata": {
    "heading_collapsed": true,
    "hidden": true
   },
   "source": [
    "## **`title_genres_year_budgets_studio`  from `title_genres_year_budgets` and `bom_movie_gorss`**"
   ]
  },
  {
   "cell_type": "markdown",
   "metadata": {
    "hidden": true
   },
   "source": [
    "By merging previously created dataframe `title_genres_year_budgets` with `bom_movie_gross_gz` we can add the name of the studio that made the movie to our existing dataframe. "
   ]
  },
  {
   "cell_type": "code",
   "execution_count": 39,
   "metadata": {
    "hidden": true
   },
   "outputs": [],
   "source": [
    "dict1 = title_genres_year_budgets\n",
    "dict2 = df[\"bom_movie_gross_gz\"]\n",
    "dict2.head()\n",
    "left_l = [\"movie\", \"year\"]\n",
    "right_l =[\"title\", \"year\"]\n",
    "title_genres_year_budgets_studio = dict1.merge(dict2, left_on = left_l,\n",
    "                                                     right_on = right_l )\n",
    "\n",
    "to_drop = [\"title\"]\n",
    "title_genres_year_budgets_studio.drop(columns = to_drop, inplace = True, \n",
    "                                                            axis = 1)"
   ]
  },
  {
   "cell_type": "markdown",
   "metadata": {
    "hidden": true
   },
   "source": [
    "We can check and confirm that this data frame does not have any null values. \n",
    "\n",
    "In summary, we created a dataframe called `title_genres_year_budgets_studio` with the following information about a movie:\n",
    "\n",
    "`'movie', 'production_budget', 'domestic_gross', 'worldwide_gross', 'return_ratio', 'year', 'month', 'tconst', 'genres','studio'`"
   ]
  },
  {
   "cell_type": "markdown",
   "metadata": {
    "heading_collapsed": true,
    "hidden": true
   },
   "source": [
    "## `title_genres_year_budgets_studio_rating` from `title_genres_year_budgets_studio` and `imdb_title_ratings_gz`"
   ]
  },
  {
   "cell_type": "markdown",
   "metadata": {
    "hidden": true
   },
   "source": [
    "We are going to merge data frames `title_genres_year_budgets_studio` with `imdb_title_ratings_gz` to create a data frame in which we have information about the rating of each movie as well"
   ]
  },
  {
   "cell_type": "code",
   "execution_count": 40,
   "metadata": {
    "hidden": true
   },
   "outputs": [],
   "source": [
    "dict1 = title_genres_year_budgets_studio\n",
    "dict2 = df[\"imdb_title_ratings_gz\"]\n",
    "left_l = [\"tconst\"]\n",
    "right_l =[\"tconst\"]\n",
    "dict2.head()\n",
    "\n",
    "title_genres_year_budgets_studio_rating = dict1.merge(dict2, \n",
    "                                      left_on = left_l, \n",
    "                                      right_on = right_l)\n",
    "\n",
    "col1 = title_genres_year_budgets_studio_rating[\"averagerating\"]\n",
    "col2 = title_genres_year_budgets_studio_rating[\"numvotes\"]\n",
    "title_genres_year_budgets_studio_rating[\"votes\"] = col1 * col2\n"
   ]
  },
  {
   "cell_type": "markdown",
   "metadata": {
    "hidden": true
   },
   "source": [
    "We can see that this data frame does not have any null values so we do not need to deal with any sort of missing data. \n",
    "\n",
    "In summary we created a data frame called `title_genres_year_budgets_studio_rating` which contains data about:\n",
    "\n",
    "`'movie', 'production_budget', 'domestic_gross', 'worldwide_gross', 'return_ratio', 'year', 'month', 'tconst', 'genres', 'studio', 'averagerating', 'numvotes', 'votes'`"
   ]
  },
  {
   "cell_type": "markdown",
   "metadata": {
    "heading_collapsed": true,
    "hidden": true
   },
   "source": [
    "## `directors_genre` from `title_genres_year_budgets_studio_rating` and `alive_director_movie_id`"
   ]
  },
  {
   "cell_type": "markdown",
   "metadata": {
    "hidden": true
   },
   "source": [
    "In this section we will create a data frame called `directors_genre` by merging `title_genres_year_budgets_studio_rating` and `alive_director_movie_id` to connect the genre and directors. "
   ]
  },
  {
   "cell_type": "code",
   "execution_count": 41,
   "metadata": {
    "hidden": true
   },
   "outputs": [],
   "source": [
    "dict1 = alive_director_movie_id\n",
    "dict2 = title_genres_year_budgets_studio_rating\n",
    "left_l = [\"tconst\"]\n",
    "right_l =[\"tconst\"]\n",
    "\n",
    "\n",
    "directors_genre = dict1.merge(dict2, left_on = left_l, \n",
    "                                    right_on = right_l)"
   ]
  },
  {
   "cell_type": "markdown",
   "metadata": {
    "hidden": true
   },
   "source": [
    "We can see that this data frame does not any null values so we do not need to deal with missing data. \n",
    "\n",
    "In summary, we created a data frame called `directors_genre` which contains the following information:\n",
    "\n",
    "\n",
    "\n",
    "`'primary_name', 'tconst', 'movie', 'production_budget', 'domestic_gross', 'worldwide_gross', 'return_ratio', 'year', 'month', 'genres', 'studio', 'averagerating', 'numvotes', 'votes'`"
   ]
  },
  {
   "cell_type": "markdown",
   "metadata": {},
   "source": [
    "# Data Analysis"
   ]
  },
  {
   "cell_type": "markdown",
   "metadata": {},
   "source": [
    "In this report, we can change the metric by changing the value of the variable column shown below:"
   ]
  },
  {
   "cell_type": "code",
   "execution_count": 61,
   "metadata": {},
   "outputs": [],
   "source": [
    "# column = \"averagerating\"\n",
    "column = \"return_ratio\""
   ]
  },
  {
   "cell_type": "markdown",
   "metadata": {
    "variables": {
     "column": "return_ratio"
    }
   },
   "source": [
    "In this part, first we identify the genre with the highest average `{{column}}`. Then we try to find a director and a studio in that specific genre with the highest average `{{column}}`."
   ]
  },
  {
   "cell_type": "markdown",
   "metadata": {},
   "source": [
    "## Discovering the Genre that satisfies our criteria"
   ]
  },
  {
   "cell_type": "markdown",
   "metadata": {
    "variables": {
     "column": "return_ratio"
    }
   },
   "source": [
    "In this part, we want to find top genres with the highest `{{column}}` mean. So, we will use the data frame `title_genres_year_budgets_studio_rating` to find the genre with the highest `{{column}}` mean. However, first we need to expand this data frame so that each row contains just one and only one genre. In order to do that, first we use the function `prep_expand` that we previously introduced, then we will expand the data frame by using available approaches."
   ]
  },
  {
   "cell_type": "code",
   "execution_count": 62,
   "metadata": {},
   "outputs": [],
   "source": [
    "\n",
    "genre_budget = title_genres_year_budgets_studio_rating.copy()\n",
    "\n",
    "genre_budget[\"genres\"] = genre_budget[\"genres\"].apply(prep_expand)\n",
    "\n",
    "\n",
    "genres_expl = genre_budget.explode(\"genres\")\n"
   ]
  },
  {
   "cell_type": "markdown",
   "metadata": {
    "variables": {
     "column": "return_ratio"
    }
   },
   "source": [
    "Now, we will group by this data frame for each genre and then we calculate the mean of the `{{column}}`. After than, we order them from highest `{{column}}` mean to the lowest and we pick the top genres:"
   ]
  },
  {
   "cell_type": "code",
   "execution_count": 63,
   "metadata": {},
   "outputs": [
    {
     "data": {
      "text/html": [
       "<div>\n",
       "<style scoped>\n",
       "    .dataframe tbody tr th:only-of-type {\n",
       "        vertical-align: middle;\n",
       "    }\n",
       "\n",
       "    .dataframe tbody tr th {\n",
       "        vertical-align: top;\n",
       "    }\n",
       "\n",
       "    .dataframe thead th {\n",
       "        text-align: right;\n",
       "    }\n",
       "</style>\n",
       "<table border=\"1\" class=\"dataframe\">\n",
       "  <thead>\n",
       "    <tr style=\"text-align: right;\">\n",
       "      <th></th>\n",
       "      <th>genres</th>\n",
       "      <th>return_ratio</th>\n",
       "    </tr>\n",
       "  </thead>\n",
       "  <tbody>\n",
       "    <tr>\n",
       "      <th>0</th>\n",
       "      <td>Horror</td>\n",
       "      <td>19.720478</td>\n",
       "    </tr>\n",
       "    <tr>\n",
       "      <th>1</th>\n",
       "      <td>Mystery</td>\n",
       "      <td>19.245661</td>\n",
       "    </tr>\n",
       "    <tr>\n",
       "      <th>2</th>\n",
       "      <td>Thriller</td>\n",
       "      <td>11.162405</td>\n",
       "    </tr>\n",
       "    <tr>\n",
       "      <th>3</th>\n",
       "      <td>Documentary</td>\n",
       "      <td>10.234838</td>\n",
       "    </tr>\n",
       "  </tbody>\n",
       "</table>\n",
       "</div>"
      ],
      "text/plain": [
       "        genres  return_ratio\n",
       "0       Horror     19.720478\n",
       "1      Mystery     19.245661\n",
       "2     Thriller     11.162405\n",
       "3  Documentary     10.234838"
      ]
     },
     "execution_count": 63,
     "metadata": {},
     "output_type": "execute_result"
    }
   ],
   "source": [
    "genre_ave_return_ratio = genres_expl.groupby(\"genres\")[column].mean()\n",
    "\n",
    "genre_return_ratio = genre_ave_return_ratio.to_frame()\n",
    "\n",
    "genre_return_ratio.reset_index(inplace = True)\n",
    "top_genres = genre_return_ratio.sort_values(column, \n",
    "                                              ascending=False).head(4)\n",
    "top_genres.reset_index(inplace = True, drop = True)\n",
    "top_genres"
   ]
  },
  {
   "cell_type": "markdown",
   "metadata": {
    "variables": {
     "column": "return_ratio"
    }
   },
   "source": [
    "Now we will plot the result by using the function we defined (`bar_plot`) to find the genre with the highest `{{column}}` mean:"
   ]
  },
  {
   "cell_type": "code",
   "execution_count": 64,
   "metadata": {},
   "outputs": [
    {
     "data": {
      "image/png": "[encoded data removed]",
      "text/plain": [
       "<Figure size 504x504 with 1 Axes>"
      ]
     },
     "metadata": {},
     "output_type": "display_data"
    }
   ],
   "source": [
    "bar_plot(top_genres, \"genres\", column \n",
    "                 , \"Genre\", \"Average Rating\"\n",
    "                 , 45\n",
    "                 , 0\n",
    "                 , \"Genres\", \"Avg. Rating\"\n",
    "                 ,  20\n",
    "                 , (7,7))"
   ]
  },
  {
   "cell_type": "markdown",
   "metadata": {
    "variables": {
     "column": "return_ratio",
     "genre_to_pick": "Biography"
    }
   },
   "source": [
    "It can be seen that \"{{genre_to_pick}}\" movies has the highest `{{column}}` mean among all of the other genres. So we will suggest to pick \"{{genre_to_pick}}\" as the main genre."
   ]
  },
  {
   "cell_type": "code",
   "execution_count": 65,
   "metadata": {},
   "outputs": [
    {
     "data": {
      "text/plain": [
       "'Horror'"
      ]
     },
     "execution_count": 65,
     "metadata": {},
     "output_type": "execute_result"
    }
   ],
   "source": [
    "genre_to_pick = top_genres.iloc[0,0]\n",
    "genre_to_pick"
   ]
  },
  {
   "cell_type": "markdown",
   "metadata": {},
   "source": [
    "### Histogram of distribution of top genres"
   ]
  },
  {
   "cell_type": "markdown",
   "metadata": {},
   "source": [
    "In this part, we want to check the histogram of the distribution of data to have an idea how these distributions look like."
   ]
  },
  {
   "cell_type": "code",
   "execution_count": 66,
   "metadata": {},
   "outputs": [
    {
     "data": {
      "image/png": "[encoded data removed]",
      "text/plain": [
       "<Figure size 720x720 with 4 Axes>"
      ]
     },
     "metadata": {},
     "output_type": "display_data"
    }
   ],
   "source": [
    "fig, axes = plt.subplots(nrows = 2, ncols = 2, figsize = (10,10)) # nrows = len(top_genres),\n",
    "fig.tight_layout(w_pad = 8, h_pad=8)\n",
    "\n",
    "\n",
    "top_5 = list(top_genres[\"genres\"])\n",
    "\n",
    "for i,item in enumerate(top_5):\n",
    "    \n",
    "    title = item + \"\\n\"\n",
    "    d = genres_expl.loc[genres_expl[\"genres\"] == item, column]\n",
    "    if i%2 == 0:\n",
    "        ax = axes[i%2][i//2]\n",
    "    elif i%2 == 1:  \n",
    "        ax = axes[i%2][i//2]\n",
    "    \n",
    "    sns.histplot(data=d, ax = ax, bins = 45, kde=True ).set_title(\n",
    "         title, fontdict = { 'fontsize': 15})\n",
    "\n",
    "    \n",
    "    ax.tick_params( labelsize = 15)\n",
    "    ax.set_xticks(range(4,10))\n",
    "    ax.set_yticks(range(11))\n",
    "    ax.set_xlabel(\"Average Rating\", fontsize = 15)\n",
    "    ax.set_ylabel(\"Frequency\", fontsize = 15)\n"
   ]
  },
  {
   "cell_type": "markdown",
   "metadata": {
    "variables": {
     "column": "return_ratio",
     "genre_to_pick": "Horror"
    }
   },
   "source": [
    "As we can see, the distribution of the `{{column}}` for the genre: \"{{genre_to_pick}}\" seems to follow the normal distribution."
   ]
  },
  {
   "cell_type": "markdown",
   "metadata": {},
   "source": [
    "## Choosing the Director "
   ]
  },
  {
   "cell_type": "markdown",
   "metadata": {
    "variables": {
     "genre_to_pick": "Horror"
    }
   },
   "source": [
    "Now that we pick the genre, we need to find the alive directors who have made movies in the selected genre (\"{{genre_to_pick}}\"). Therefore, we are going to use the data frame `directors_genre` and we slice this data frame to find directors who made movies in the (\"{{genre_to_pick}}\") genre."
   ]
  },
  {
   "cell_type": "code",
   "execution_count": 67,
   "metadata": {},
   "outputs": [],
   "source": [
    "condition = directors_genre[\"genres\"].str.contains(genre_to_pick)\n",
    "\n",
    "\n",
    "directors = directors_genre.loc[condition]\n",
    "directors_return_ratio = directors.groupby(\"primary_name\")[column].mean()\n",
    "directors_to_pick = directors_return_ratio.to_frame()\n",
    "directors_to_pick.reset_index(inplace = True)\n",
    "top_directors = directors_to_pick.sort_values(column, \n",
    "                                                ascending=False).head(4)\n",
    "\n",
    "top_directors.reset_index(inplace = True, drop = True)"
   ]
  },
  {
   "cell_type": "markdown",
   "metadata": {
    "variables": {
     "column": "return_ratio",
     "genre_to_pick": "Horror"
    }
   },
   "source": [
    "Now we will plot the result by using the function we defined (`bar_plot`) to find the name of the director whose movies earned the highest `{{column}}` mean in \"{{genre_to_pick}}\" genre:"
   ]
  },
  {
   "cell_type": "code",
   "execution_count": 68,
   "metadata": {},
   "outputs": [
    {
     "data": {
      "image/png": "[encoded data removed]",
      "text/plain": [
       "<Figure size 504x504 with 1 Axes>"
      ]
     },
     "metadata": {},
     "output_type": "display_data"
    }
   ],
   "source": [
    "bar_plot(top_directors, \"primary_name\", column \n",
    "                 , \"Directors\", \"Average Rating\"\n",
    "                 , 45\n",
    "                 , 0\n",
    "                 , \"Directors\", \"Avg. Rating\"\n",
    "                 ,  20\n",
    "                 , (7,7))"
   ]
  },
  {
   "cell_type": "markdown",
   "metadata": {
    "variables": {
     "column": "return_ratio",
     "director_to_pick": "Nitesh Tiwari",
     "genre_to_pick": "Horror"
    }
   },
   "source": [
    "It can be seen that \"{{director_to_pick}}\" has made \"{{genre_to_pick}}\" movies with the highest `{{column}}` mean compared all other alive directors."
   ]
  },
  {
   "cell_type": "code",
   "execution_count": 69,
   "metadata": {},
   "outputs": [
    {
     "data": {
      "text/plain": [
       "'Travis Cluff'"
      ]
     },
     "execution_count": 69,
     "metadata": {},
     "output_type": "execute_result"
    }
   ],
   "source": [
    "director_to_pick = top_directors.iloc[0,0]\n",
    "director_to_pick"
   ]
  },
  {
   "cell_type": "markdown",
   "metadata": {},
   "source": [
    "## Choosing a Studio"
   ]
  },
  {
   "cell_type": "markdown",
   "metadata": {
    "variables": {
     "column": "return_ratio",
     "genre_to_pick": "Horror"
    }
   },
   "source": [
    "Now that we pick the genre, we need to find the studios that have made movies in the selected genre (\"{{genre_to_pick}}\") with the highest `{{column}}` mean. Therefore, we are going to use the data frame `title_genres_year_budgets_studio_rating` and we slice this data frame to find studios that made movies in \"{{genre_to_pick}}\" genre."
   ]
  },
  {
   "cell_type": "code",
   "execution_count": 70,
   "metadata": {},
   "outputs": [],
   "source": [
    "data = title_genres_year_budgets_studio_rating\n",
    "condition = title_genres_year_budgets_studio_rating[\"genres\"].str.contains(\n",
    "                                                            genre_to_pick)\n",
    "\n",
    "\n",
    "studios = data.loc[condition]\n",
    "\n",
    "studios_return_ratio = studios.groupby(\"studio\")[column].mean()\n",
    "studios_return_ratio \n",
    "studios_to_pick = studios_return_ratio.to_frame()\n",
    "studios_to_pick.reset_index(inplace = True)\n",
    "top_studios = studios_to_pick.sort_values(column, \n",
    "                                                ascending=False).head(4)\n",
    "\n",
    "top_studios.reset_index(inplace = True, drop = True)"
   ]
  },
  {
   "cell_type": "markdown",
   "metadata": {
    "variables": {
     "column": "return_ratio",
     "genre_to_pick": "Horror"
    }
   },
   "source": [
    "Now we will plot the results by using the function we defined (`bar_plot`) to find the name of the studios who made movies with the highest `{{column}}` mean in \"{{genre_to_pick}}\" genre:"
   ]
  },
  {
   "cell_type": "code",
   "execution_count": 71,
   "metadata": {},
   "outputs": [
    {
     "data": {
      "image/png": "[encoded data removed]",
      "text/plain": [
       "<Figure size 504x504 with 1 Axes>"
      ]
     },
     "metadata": {},
     "output_type": "display_data"
    }
   ],
   "source": [
    "bar_plot(top_studios, \"studio\", column \n",
    "                 , \"Studios\", \"Average Rating\"\n",
    "                 , 0\n",
    "                 , 0\n",
    "                 , \"Studios\", \"Avg. Rating\"\n",
    "                 ,  20\n",
    "                 , (7,7))"
   ]
  },
  {
   "cell_type": "markdown",
   "metadata": {
    "variables": {
     "column": "return_ratio",
     "genre_to_pick": "Horror",
     "studio_to_pick": "UTV"
    }
   },
   "source": [
    "It can be seen that \"{{studio_to_pick}}\" has made \"{{genre_to_pick}}\" movies with the highest `{{column}}` mean compared to all other studios."
   ]
  },
  {
   "cell_type": "code",
   "execution_count": 72,
   "metadata": {},
   "outputs": [
    {
     "data": {
      "text/plain": [
       "'WB (NL)'"
      ]
     },
     "execution_count": 72,
     "metadata": {},
     "output_type": "execute_result"
    }
   ],
   "source": [
    "studio_to_pick = top_studios.iloc[0,0]\n",
    "studio_to_pick"
   ]
  },
  {
   "cell_type": "markdown",
   "metadata": {},
   "source": [
    "## Choosing the Month of Release"
   ]
  },
  {
   "cell_type": "markdown",
   "metadata": {
    "variables": {
     "column": "return_ratio",
     "genre_to_pick": "Horror"
    }
   },
   "source": [
    "Now that we pick the genre, director, studio, we need to find the release months for the selected genre (\"{{genre_to_pick}}\") with the highest `{{column}}` mean. Therefore, we are going to use the data frame `title_genres_year_budgets_studio_rating` and we slice this data frame to find release months for \"{{genre_to_pick}}\" genre."
   ]
  },
  {
   "cell_type": "code",
   "execution_count": 73,
   "metadata": {},
   "outputs": [],
   "source": [
    "data = title_genres_year_budgets_studio_rating\n",
    "condition = title_genres_year_budgets_studio_rating[\"genres\"].str.contains(\n",
    "                                                            genre_to_pick)\n",
    "\n",
    "\n",
    "months = data.loc[condition]\n",
    "\n",
    "months_to_work_with = months.groupby(\"month\")[column].mean()\n",
    "months_to_work_with \n",
    "months_to_pick = months_to_work_with.to_frame()\n",
    "months_to_pick.reset_index(inplace = True)\n",
    "top_months = months_to_pick.sort_values(column, \n",
    "                                                ascending=False).head(4)\n",
    "\n",
    "top_months.reset_index(inplace = True, drop = True)"
   ]
  },
  {
   "cell_type": "markdown",
   "metadata": {
    "variables": {
     "column": "return_ratio",
     "genre_to_pick": "Horror"
    }
   },
   "source": [
    "Now we will plot the results by using the function we defined (`bar_plot`) to find the name of the release months with the highest `{{column}}` mean in \"{{genre_to_pick}}\" genre:"
   ]
  },
  {
   "cell_type": "code",
   "execution_count": 74,
   "metadata": {},
   "outputs": [
    {
     "data": {
      "image/png": "[encoded data removed]",
      "text/plain": [
       "<Figure size 504x504 with 1 Axes>"
      ]
     },
     "metadata": {},
     "output_type": "display_data"
    }
   ],
   "source": [
    "bar_plot(top_months, \"month\", column \n",
    "                 , \"Month\", \"Average Rating\"\n",
    "                 , 45\n",
    "                 , 0\n",
    "                 , \"Months\", \"Avg. Rating\"\n",
    "                 ,  20\n",
    "                 , (7,7))"
   ]
  },
  {
   "cell_type": "markdown",
   "metadata": {
    "variables": {
     "column": "return_ratio",
     "genre_to_pick": "Horror",
     "month_to_pick": "November"
    }
   },
   "source": [
    "It can be seen that the release month \"{{month_to_pick}}\" for the genre \"{{genre_to_pick}}\" has the highest `{{column}}` mean compared to all other months."
   ]
  },
  {
   "cell_type": "code",
   "execution_count": 75,
   "metadata": {},
   "outputs": [
    {
     "data": {
      "text/plain": [
       "'July'"
      ]
     },
     "execution_count": 75,
     "metadata": {},
     "output_type": "execute_result"
    }
   ],
   "source": [
    "month_to_pick = top_months.iloc[0,0]\n",
    "month_to_pick"
   ]
  },
  {
   "cell_type": "markdown",
   "metadata": {},
   "source": [
    "### Histogram of distribution of top months"
   ]
  },
  {
   "cell_type": "markdown",
   "metadata": {},
   "source": [
    "In this part, we want to check the histogram of the distribution of data to have an idea how these distributions look like."
   ]
  },
  {
   "cell_type": "code",
   "execution_count": 57,
   "metadata": {},
   "outputs": [
    {
     "data": {
      "image/png": "[encoded data removed]",
      "text/plain": [
       "<Figure size 720x720 with 4 Axes>"
      ]
     },
     "metadata": {},
     "output_type": "display_data"
    }
   ],
   "source": [
    "data_to_slice = title_genres_year_budgets_studio_rating\n",
    "\n",
    "condition = data_to_slice[\"genres\"].str.contains(genre_to_pick)\n",
    "\n",
    "\n",
    "months = data_to_slice.loc[condition]\n",
    "\n",
    "\n",
    "fig, axes = plt.subplots(2, ncols = 2, figsize = (10,10))\n",
    "fig.tight_layout(w_pad = 8, h_pad=8)\n",
    "\n",
    "\n",
    "top_5 = list(top_months[\"month\"])\n",
    "\n",
    "for i,item in enumerate(top_5):\n",
    "    \n",
    "    d = data_to_slice.loc[data_to_slice[\"month\"] == item, column]\n",
    "    title = item  + \"\\n\"\n",
    "    \n",
    "    if i%2 == 0:\n",
    "        ax = axes[i%2][i//2]\n",
    "    elif i%2 == 1:  \n",
    "        ax = axes[i%2][i//2]\n",
    "    \n",
    "    sns.histplot(data=d, ax = ax, bins = 45, kde=True).set_title(\n",
    "         title, fontdict = { 'fontsize': 15})\n",
    "\n",
    "    ax.axvline(x = np.mean(d), ymax = 11, color = \"black\", linestyle = \"--\")\n",
    "    ax.tick_params( labelsize = 15)\n",
    "    ax.set_xticks(range(2,11))\n",
    "    ax.set_yticks(range(12))\n",
    "    ax.set_xlabel(\"Average Rating\", fontsize = 15)\n",
    "    ax.set_ylabel(\"Frequency\", fontsize = 15)\n"
   ]
  },
  {
   "cell_type": "markdown",
   "metadata": {
    "heading_collapsed": true
   },
   "source": [
    "# Conclusion"
   ]
  },
  {
   "cell_type": "markdown",
   "metadata": {
    "hidden": true,
    "variables": {
     "column": "averagerating"
    }
   },
   "source": [
    "In this report, we used highest mean of the `{{column}}` as a metric to find the genre. Then we found the name of the director and the studio who have made movies in the chosen genre with the highest mean of the `{{column}}` as well. The results of this report are as follows:"
   ]
  },
  {
   "cell_type": "code",
   "execution_count": 58,
   "metadata": {
    "hidden": true
   },
   "outputs": [
    {
     "name": "stdout",
     "output_type": "stream",
     "text": [
      "Recommended Genre:  Biography\n",
      "\n",
      "Recommended Director:  Nitesh Tiwari\n",
      "\n",
      "Recommended Studio:  UTV\n",
      "\n",
      "Recommended Relsease Month:  November\n"
     ]
    }
   ],
   "source": [
    "print(\"Recommended Genre: \", genre_to_pick)\n",
    "print(\"\\nRecommended Director: \", director_to_pick)\n",
    "print(\"\\nRecommended Studio: \", studio_to_pick)\n",
    "print(\"\\nRecommended Relsease Month: \", month_to_pick)"
   ]
  },
  {
   "cell_type": "markdown",
   "metadata": {
    "hidden": true
   },
   "source": [
    "This report results in four recommendations for Microsoft to consider for entering movie industry. The results are obtained by considering the highest mean of average rate of different movies with the past decade. \n",
    "\n",
    "#### Recommended Genre. \n",
    "After analyzing available data, we concluded that Biography has the highest mean of average rating among all other genres. Therefore, we recommend Microsoft to choose Biography as the genre to make a movie.\n",
    "\n",
    "#### Recommended Director.\n",
    "After choosing biography as the genre of the movie, we did analyze the data and we realized that Nitesh Tiwari has made movies as a director with the highest mean of average rating. Therefore, we recommend Microsoft to choose Nitesh Tiwari as the director of their movie. \n",
    "\n",
    "#### Recommended Month of Release.\n",
    "Considering that the Biography as the genre of the movie, we concluded that movies released in November have the highest mean of average ratings. Therefore, we would recommend Microsoft to release their movie in November.\n",
    "\n",
    "#### Recommended Studio.\n",
    "From analyzing movies withing biography genre, we concluded that biography movies made by studio UTV have the highest mean of average ratings. Therefore, we recommend Microsoft to work with UTV for making a movie.\n",
    "\n"
   ]
  },
  {
   "cell_type": "markdown",
   "metadata": {},
   "source": [
    "# Next Steps\n"
   ]
  },
  {
   "cell_type": "markdown",
   "metadata": {},
   "source": [
    "The next steps we would recommend Microsoft to consider for achieving their goals are:\n",
    "\n",
    "#### Selecting Writers and Actors and Actresses. \n",
    "We would recommend to Microsoft to do the same analysis to find the best writers, actors and actresses for their movie.\n",
    "\n",
    "#### Selecting Biography of a Real Person.\n",
    "We would recommend Microsoft to try to choose the biography of a real person to make a movie about by analyzing available data about the biography books of different people. \n",
    "\n",
    "#### Selecting Production Budget.\n",
    "Last but not least, we recommend Microsoft to select production budget to consider to make a movie by analyzing available data."
   ]
  }
 ],
 "metadata": {
  "author": "Milad Shirani",
  "kernelspec": {
   "display_name": "Python 3",
   "language": "python",
   "name": "python3"
  },
  "language_info": {
   "codemirror_mode": {
    "name": "ipython",
    "version": 3
   },
   "file_extension": ".py",
   "mimetype": "text/x-python",
   "name": "python",
   "nbconvert_exporter": "python",
   "pygments_lexer": "ipython3",
   "version": "3.8.5"
  },
  "latex_envs": {
   "LaTeX_envs_menu_present": true,
   "autoclose": false,
   "autocomplete": true,
   "bibliofile": "biblio.bib",
   "cite_by": "apalike",
   "current_citInitial": 1,
   "eqLabelWithNumbers": true,
   "eqNumInitial": 1,
   "hotkeys": {
    "equation": "Ctrl-E",
    "itemize": "Ctrl-I"
   },
   "labels_anchors": false,
   "latex_user_defs": false,
   "report_style_numbering": false,
   "user_envs_cfg": false
  },
  "toc": {
   "base_numbering": 1,
   "nav_menu": {},
   "number_sections": true,
   "sideBar": true,
   "skip_h1_title": false,
   "title_cell": "Table of Contents",
   "title_sidebar": "Contents",
   "toc_cell": false,
   "toc_position": {},
   "toc_section_display": true,
   "toc_window_display": false
  },
  "varInspector": {
   "cols": {
    "lenName": 16,
    "lenType": 16,
    "lenVar": 40
   },
   "kernels_config": {
    "python": {
     "delete_cmd_postfix": "",
     "delete_cmd_prefix": "del ",
     "library": "var_list.py",
     "varRefreshCmd": "print(var_dic_list())"
    },
    "r": {
     "delete_cmd_postfix": ") ",
     "delete_cmd_prefix": "rm(",
     "library": "var_list.r",
     "varRefreshCmd": "cat(var_dic_list()) "
    }
   },
   "types_to_exclude": [
    "module",
    "function",
    "builtin_function_or_method",
    "instance",
    "_Feature"
   ],
   "window_display": false
  }
 },
 "nbformat": 4,
 "nbformat_minor": 2
}
